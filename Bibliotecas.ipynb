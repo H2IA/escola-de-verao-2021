{
  "nbformat": 4,
  "nbformat_minor": 0,
  "metadata": {
    "colab": {
      "name": "Bibliotecas.ipynb",
      "provenance": [],
      "collapsed_sections": [],
      "authorship_tag": "ABX9TyPMmtJ0BbU/D5tnyaESMARX",
      "include_colab_link": true
    },
    "kernelspec": {
      "name": "python3",
      "display_name": "Python 3"
    },
    "accelerator": "GPU"
  },
  "cells": [
    {
      "cell_type": "markdown",
      "metadata": {
        "id": "view-in-github",
        "colab_type": "text"
      },
      "source": [
        "<a href=\"https://colab.research.google.com/github/H2IA/escola-de-verao-2021/blob/main/Bibliotecas.ipynb\" target=\"_parent\"><img src=\"https://colab.research.google.com/assets/colab-badge.svg\" alt=\"Open In Colab\"/></a>"
      ]
    },
    {
      "cell_type": "markdown",
      "metadata": {
        "id": "V-VMZXBJwTZu"
      },
      "source": [
        "![Hub IA - marca 02.png](data:image/png;base64,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)\n"
      ]
    },
    {
      "cell_type": "markdown",
      "metadata": {
        "id": "olI9vj-vI6fZ"
      },
      "source": [
        "# Sobre o Google Colaboratory\n",
        "O Colab instancia uma máquina virtual linux com um ambiente python3 disponível.\n",
        "\n",
        "Você pode executar comandos na máquina linux, fora do ambiente python, usando o operador ***!***\n",
        "\n"
      ]
    },
    {
      "cell_type": "code",
      "metadata": {
        "id": "ZnPPzj5fMKUM",
        "colab": {
          "base_uri": "https://localhost:8080/"
        },
        "outputId": "af7282ca-c380-4cd2-ef15-42003ab05f66"
      },
      "source": [
        "!apt-get -qq -y install inxi "
      ],
      "execution_count": 2,
      "outputs": [
        {
          "output_type": "stream",
          "text": [
            "Preconfiguring packages ...\n",
            "Selecting previously unselected package libsigsegv2:amd64.\n",
            "(Reading database ... 146442 files and directories currently installed.)\n",
            "Preparing to unpack .../libsigsegv2_2.12-1_amd64.deb ...\n",
            "Unpacking libsigsegv2:amd64 (2.12-1) ...\n",
            "Setting up libsigsegv2:amd64 (2.12-1) ...\n",
            "Selecting previously unselected package gawk.\n",
            "(Reading database ... 146449 files and directories currently installed.)\n",
            "Preparing to unpack .../00-gawk_1%3a4.1.4+dfsg-1build1_amd64.deb ...\n",
            "Unpacking gawk (1:4.1.4+dfsg-1build1) ...\n",
            "Selecting previously unselected package libxxf86dga1:amd64.\n",
            "Preparing to unpack .../01-libxxf86dga1_2%3a1.1.4-1_amd64.deb ...\n",
            "Unpacking libxxf86dga1:amd64 (2:1.1.4-1) ...\n",
            "Selecting previously unselected package libmagic-mgc.\n",
            "Preparing to unpack .../02-libmagic-mgc_1%3a5.32-2ubuntu0.4_amd64.deb ...\n",
            "Unpacking libmagic-mgc (1:5.32-2ubuntu0.4) ...\n",
            "Selecting previously unselected package libmagic1:amd64.\n",
            "Preparing to unpack .../03-libmagic1_1%3a5.32-2ubuntu0.4_amd64.deb ...\n",
            "Unpacking libmagic1:amd64 (1:5.32-2ubuntu0.4) ...\n",
            "Selecting previously unselected package file.\n",
            "Preparing to unpack .../04-file_1%3a5.32-2ubuntu0.4_amd64.deb ...\n",
            "Unpacking file (1:5.32-2ubuntu0.4) ...\n",
            "Selecting previously unselected package libmnl0:amd64.\n",
            "Preparing to unpack .../05-libmnl0_1.0.4-2_amd64.deb ...\n",
            "Unpacking libmnl0:amd64 (1.0.4-2) ...\n",
            "Selecting previously unselected package iproute2.\n",
            "Preparing to unpack .../06-iproute2_4.15.0-2ubuntu1.2_amd64.deb ...\n",
            "Unpacking iproute2 (4.15.0-2ubuntu1.2) ...\n",
            "Selecting previously unselected package libatm1:amd64.\n",
            "Preparing to unpack .../07-libatm1_1%3a2.5.1-2build1_amd64.deb ...\n",
            "Unpacking libatm1:amd64 (1:2.5.1-2build1) ...\n",
            "Selecting previously unselected package libxtables12:amd64.\n",
            "Preparing to unpack .../08-libxtables12_1.6.1-2ubuntu2_amd64.deb ...\n",
            "Unpacking libxtables12:amd64 (1.6.1-2ubuntu2) ...\n",
            "Selecting previously unselected package dmidecode.\n",
            "Preparing to unpack .../09-dmidecode_3.1-1ubuntu0.1_amd64.deb ...\n",
            "Unpacking dmidecode (3.1-1ubuntu0.1) ...\n",
            "Selecting previously unselected package libpci3:amd64.\n",
            "Preparing to unpack .../10-libpci3_1%3a3.5.2-1ubuntu1.1_amd64.deb ...\n",
            "Unpacking libpci3:amd64 (1:3.5.2-1ubuntu1.1) ...\n",
            "Selecting previously unselected package pciutils.\n",
            "Preparing to unpack .../11-pciutils_1%3a3.5.2-1ubuntu1.1_amd64.deb ...\n",
            "Unpacking pciutils (1:3.5.2-1ubuntu1.1) ...\n",
            "Selecting previously unselected package usbutils.\n",
            "Preparing to unpack .../12-usbutils_1%3a007-4build1_amd64.deb ...\n",
            "Unpacking usbutils (1:007-4build1) ...\n",
            "Selecting previously unselected package net-tools.\n",
            "Preparing to unpack .../13-net-tools_1.60+git20161116.90da8a0-1ubuntu1_amd64.deb ...\n",
            "Unpacking net-tools (1.60+git20161116.90da8a0-1ubuntu1) ...\n",
            "Selecting previously unselected package x11-utils.\n",
            "Preparing to unpack .../14-x11-utils_7.7+3build1_amd64.deb ...\n",
            "Unpacking x11-utils (7.7+3build1) ...\n",
            "Selecting previously unselected package x11-xserver-utils.\n",
            "Preparing to unpack .../15-x11-xserver-utils_7.7+7build1_amd64.deb ...\n",
            "Unpacking x11-xserver-utils (7.7+7build1) ...\n",
            "Selecting previously unselected package hddtemp.\n",
            "Preparing to unpack .../16-hddtemp_0.3-beta15-53_amd64.deb ...\n",
            "Unpacking hddtemp (0.3-beta15-53) ...\n",
            "Selecting previously unselected package inxi.\n",
            "Preparing to unpack .../17-inxi_2.3.56-1_all.deb ...\n",
            "Unpacking inxi (2.3.56-1) ...\n",
            "Selecting previously unselected package lm-sensors.\n",
            "Preparing to unpack .../18-lm-sensors_1%3a3.4.0-4_amd64.deb ...\n",
            "Unpacking lm-sensors (1:3.4.0-4) ...\n",
            "Selecting previously unselected package mesa-utils.\n",
            "Preparing to unpack .../19-mesa-utils_8.4.0-1_amd64.deb ...\n",
            "Unpacking mesa-utils (8.4.0-1) ...\n",
            "Setting up hddtemp (0.3-beta15-53) ...\n",
            "invoke-rc.d: could not determine current runlevel\n",
            "invoke-rc.d: policy-rc.d denied execution of start.\n",
            "Setting up dmidecode (3.1-1ubuntu0.1) ...\n",
            "Setting up gawk (1:4.1.4+dfsg-1build1) ...\n",
            "Setting up usbutils (1:007-4build1) ...\n",
            "Setting up libmagic-mgc (1:5.32-2ubuntu0.4) ...\n",
            "Setting up libmagic1:amd64 (1:5.32-2ubuntu0.4) ...\n",
            "Setting up libxxf86dga1:amd64 (2:1.1.4-1) ...\n",
            "Setting up libatm1:amd64 (1:2.5.1-2build1) ...\n",
            "Setting up libxtables12:amd64 (1.6.1-2ubuntu2) ...\n",
            "Setting up lm-sensors (1:3.4.0-4) ...\n",
            "Created symlink /etc/systemd/system/multi-user.target.wants/lm-sensors.service → /lib/systemd/system/lm-sensors.service.\n",
            "Setting up x11-xserver-utils (7.7+7build1) ...\n",
            "Setting up libpci3:amd64 (1:3.5.2-1ubuntu1.1) ...\n",
            "Setting up net-tools (1.60+git20161116.90da8a0-1ubuntu1) ...\n",
            "Setting up libmnl0:amd64 (1.0.4-2) ...\n",
            "Setting up mesa-utils (8.4.0-1) ...\n",
            "Setting up x11-utils (7.7+3build1) ...\n",
            "Setting up file (1:5.32-2ubuntu0.4) ...\n",
            "Setting up iproute2 (4.15.0-2ubuntu1.2) ...\n",
            "Setting up pciutils (1:3.5.2-1ubuntu1.1) ...\n",
            "Setting up inxi (2.3.56-1) ...\n",
            "Processing triggers for man-db (2.8.3-2ubuntu0.1) ...\n",
            "Processing triggers for libc-bin (2.27-3ubuntu1.4) ...\n",
            "/sbin/ldconfig.real: /usr/local/lib/python3.6/dist-packages/ideep4py/lib/libmkldnn.so.0 is not a symbolic link\n",
            "\n",
            "Processing triggers for systemd (237-3ubuntu10.44) ...\n"
          ],
          "name": "stdout"
        }
      ]
    },
    {
      "cell_type": "code",
      "metadata": {
        "id": "q15bua5UL_Ei",
        "colab": {
          "base_uri": "https://localhost:8080/"
        },
        "outputId": "aeade992-75eb-4c1f-dc60-e802b9596724"
      },
      "source": [
        "!inxi -b # verifica a saída com uma VM com GPU e sem GPU"
      ],
      "execution_count": 3,
      "outputs": [
        {
          "output_type": "stream",
          "text": [
            "\u001b[1;34mSystem:   \u001b[0;37m \u001b[1;34mHost:\u001b[0;37m 1ab937c6aec1 \u001b[1;34mKernel:\u001b[0;37m 4.19.112+ x86_64 \u001b[1;34mbits:\u001b[0;37m 64\u001b[0;37m\n",
            "\u001b[1;34m          \u001b[0;37m \u001b[1;34mConsole:\u001b[0;37m tty 0 \u001b[1;34mDistro:\u001b[0;37m Ubuntu 18.04.5 LTS\u001b[0;37m\n",
            "\u001b[1;34mMachine:  \u001b[0;37m \u001b[1;34mDevice:\u001b[0;37m docker \u001b[1;34mMobo:\u001b[0;37m Google \u001b[1;34mmodel:\u001b[0;37m Google Compute Engine \u001b[1;34mserial:\u001b[0;37m Board-GoogleCloud-2BFBF681668984CF55A4E3F4B4EA8691\u001b[0;37m\n",
            "\u001b[1;34m          \u001b[0;37m \u001b[1;34mBIOS:\u001b[0;37m Google \u001b[1;34mv:\u001b[0;37m Google \u001b[1;34mdate:\u001b[0;37m 01/01/2011\u001b[0;37m\n",
            "\u001b[1;34mBattery   \u001b[0;37m \u001b[0;37mUsing dmidecode: unknown error occurred\u001b[0;37m\n",
            "\u001b[1;34mCPU:      \u001b[0;37m \u001b[1;34mSingle core\u001b[0;37m Intel Xeon (-MT-) \u001b[1;34mspeed:\u001b[0;37m 2199 MHz (max)\u001b[0;37m\n",
            "\u001b[1;34mGraphics: \u001b[0;37m \u001b[1;34mCard:\u001b[0;37m NVIDIA Device 1eb8\u001b[0;37m\n",
            "\u001b[1;34m          \u001b[0;37m \u001b[1;34mDisplay Server:\u001b[0;37m X.org 1.20.8 \u001b[1;34mdriver:\u001b[0;37m nvidia\u001b[0;37m\n",
            "\u001b[1;34m          \u001b[0;37m \u001b[1;34mtty size:\u001b[0;37m 0x0 \u001b[1;34mAdvanced Data:\u001b[0;37m N/A for root out of X\u001b[0;37m\n",
            "\u001b[1;34mNetwork:  \u001b[0;37m \u001b[1;34mCard:\u001b[0;37m Red Hat Virtio network device \u001b[1;34mdriver:\u001b[0;37m virtio-pci\u001b[0;37m\n",
            "\u001b[1;34mDrives:   \u001b[0;37m \u001b[1;34mHDD Total Size:\u001b[0;37m 85.9GB (39.6% used)\u001b[0;37m\n",
            "\u001b[1;34mInfo:     \u001b[0;37m \u001b[1;34mProcesses:\u001b[0;37m 10 \u001b[1;34mUptime:\u001b[0;37m 1:25 \u001b[1;34mMemory:\u001b[0;37m 760.0/13021.1MB \u001b[1;34mInit:\u001b[0;37m N/A\u001b[0;37m\n",
            "\u001b[1;34m          \u001b[0;37m \u001b[1;34mClient:\u001b[0;37m Shell (python3) \u001b[1;34minxi:\u001b[0;37m 2.3.56\u001b[0;37m \u001b[0;37m\n",
            "\u001b[0m"
          ],
          "name": "stdout"
        }
      ]
    },
    {
      "cell_type": "code",
      "metadata": {
        "id": "I93tGmGNNFw2",
        "colab": {
          "base_uri": "https://localhost:8080/"
        },
        "outputId": "c056ae13-32df-4730-b5cd-8decb7de2f6d"
      },
      "source": [
        "!nvidia-smi # verifica características da placa de vídeo\n",
        "#se usamos demais o Google pode restringir nosso acesso a VMs com GPU, ou nos colocar em VMs com uma GPU menos potente."
      ],
      "execution_count": 4,
      "outputs": [
        {
          "output_type": "stream",
          "text": [
            "Fri Feb 19 19:50:37 2021       \n",
            "+-----------------------------------------------------------------------------+\n",
            "| NVIDIA-SMI 460.39       Driver Version: 460.32.03    CUDA Version: 11.2     |\n",
            "|-------------------------------+----------------------+----------------------+\n",
            "| GPU  Name        Persistence-M| Bus-Id        Disp.A | Volatile Uncorr. ECC |\n",
            "| Fan  Temp  Perf  Pwr:Usage/Cap|         Memory-Usage | GPU-Util  Compute M. |\n",
            "|                               |                      |               MIG M. |\n",
            "|===============================+======================+======================|\n",
            "|   0  Tesla T4            Off  | 00000000:00:04.0 Off |                    0 |\n",
            "| N/A   33C    P8     8W /  70W |      0MiB / 15109MiB |      0%      Default |\n",
            "|                               |                      |                  N/A |\n",
            "+-------------------------------+----------------------+----------------------+\n",
            "                                                                               \n",
            "+-----------------------------------------------------------------------------+\n",
            "| Processes:                                                                  |\n",
            "|  GPU   GI   CI        PID   Type   Process name                  GPU Memory |\n",
            "|        ID   ID                                                   Usage      |\n",
            "|=============================================================================|\n",
            "|  No running processes found                                                 |\n",
            "+-----------------------------------------------------------------------------+\n"
          ],
          "name": "stdout"
        }
      ]
    },
    {
      "cell_type": "markdown",
      "metadata": {
        "id": "kRSSYY5dLNg9"
      },
      "source": [
        "# Para determinar qual versão disponível no Colaboratory\n",
        "\n",
        "É importante saber qual versão específica de determinada biblioteca.\n",
        "\n",
        "Implementações de métodos de aprendizado de máquina, muitas vezes, dependem de versões específicas de bibliotecas de software.\n",
        "\n",
        "Mais adiante você verá como instalar uma versão específica de um pacote python com o pip.\n"
      ]
    },
    {
      "cell_type": "code",
      "metadata": {
        "id": "LSnubvBVLMpM",
        "colab": {
          "base_uri": "https://localhost:8080/"
        },
        "outputId": "d425c938-136a-4fa0-8158-cc7c44a2112d"
      },
      "source": [
        "!pip show tensorflow"
      ],
      "execution_count": 5,
      "outputs": [
        {
          "output_type": "stream",
          "text": [
            "Name: tensorflow\n",
            "Version: 2.4.1\n",
            "Summary: TensorFlow is an open source machine learning framework for everyone.\n",
            "Home-page: https://www.tensorflow.org/\n",
            "Author: Google Inc.\n",
            "Author-email: packages@tensorflow.org\n",
            "License: Apache 2.0\n",
            "Location: /usr/local/lib/python3.6/dist-packages\n",
            "Requires: keras-preprocessing, grpcio, tensorflow-estimator, gast, typing-extensions, absl-py, numpy, protobuf, tensorboard, astunparse, wrapt, flatbuffers, wheel, google-pasta, h5py, six, opt-einsum, termcolor\n",
            "Required-by: fancyimpute\n"
          ],
          "name": "stdout"
        }
      ]
    },
    {
      "cell_type": "markdown",
      "metadata": {
        "id": "Sk0gyLZGCULV"
      },
      "source": [
        "#Instalar uma biblioteca que não está no Colaboratory\n",
        "\n",
        "Para instalar uma biblioteca que não está no Colaboratory você pode usar  Package Installer for Python (PIP) ou Advanced Package Tool (APT)."
      ]
    },
    {
      "cell_type": "markdown",
      "metadata": {
        "id": "Q2O0GDTPJLf2"
      },
      "source": [
        "**pip**"
      ]
    },
    {
      "cell_type": "code",
      "metadata": {
        "id": "DKXmh8M5CR2e",
        "colab": {
          "base_uri": "https://localhost:8080/"
        },
        "outputId": "ab7ac049-24f0-4d0d-c59f-4bba38e7b519"
      },
      "source": [
        "!pip install tensorflow"
      ],
      "execution_count": 6,
      "outputs": [
        {
          "output_type": "stream",
          "text": [
            "Requirement already satisfied: tensorflow in /usr/local/lib/python3.6/dist-packages (2.4.1)\n",
            "Requirement already satisfied: tensorflow-estimator<2.5.0,>=2.4.0 in /usr/local/lib/python3.6/dist-packages (from tensorflow) (2.4.0)\n",
            "Requirement already satisfied: wheel~=0.35 in /usr/local/lib/python3.6/dist-packages (from tensorflow) (0.36.2)\n",
            "Requirement already satisfied: opt-einsum~=3.3.0 in /usr/local/lib/python3.6/dist-packages (from tensorflow) (3.3.0)\n",
            "Requirement already satisfied: numpy~=1.19.2 in /usr/local/lib/python3.6/dist-packages (from tensorflow) (1.19.5)\n",
            "Requirement already satisfied: google-pasta~=0.2 in /usr/local/lib/python3.6/dist-packages (from tensorflow) (0.2.0)\n",
            "Requirement already satisfied: typing-extensions~=3.7.4 in /usr/local/lib/python3.6/dist-packages (from tensorflow) (3.7.4.3)\n",
            "Requirement already satisfied: wrapt~=1.12.1 in /usr/local/lib/python3.6/dist-packages (from tensorflow) (1.12.1)\n",
            "Requirement already satisfied: grpcio~=1.32.0 in /usr/local/lib/python3.6/dist-packages (from tensorflow) (1.32.0)\n",
            "Requirement already satisfied: h5py~=2.10.0 in /usr/local/lib/python3.6/dist-packages (from tensorflow) (2.10.0)\n",
            "Requirement already satisfied: keras-preprocessing~=1.1.2 in /usr/local/lib/python3.6/dist-packages (from tensorflow) (1.1.2)\n",
            "Requirement already satisfied: termcolor~=1.1.0 in /usr/local/lib/python3.6/dist-packages (from tensorflow) (1.1.0)\n",
            "Requirement already satisfied: six~=1.15.0 in /usr/local/lib/python3.6/dist-packages (from tensorflow) (1.15.0)\n",
            "Requirement already satisfied: gast==0.3.3 in /usr/local/lib/python3.6/dist-packages (from tensorflow) (0.3.3)\n",
            "Requirement already satisfied: tensorboard~=2.4 in /usr/local/lib/python3.6/dist-packages (from tensorflow) (2.4.1)\n",
            "Requirement already satisfied: protobuf>=3.9.2 in /usr/local/lib/python3.6/dist-packages (from tensorflow) (3.12.4)\n",
            "Requirement already satisfied: flatbuffers~=1.12.0 in /usr/local/lib/python3.6/dist-packages (from tensorflow) (1.12)\n",
            "Requirement already satisfied: astunparse~=1.6.3 in /usr/local/lib/python3.6/dist-packages (from tensorflow) (1.6.3)\n",
            "Requirement already satisfied: absl-py~=0.10 in /usr/local/lib/python3.6/dist-packages (from tensorflow) (0.10.0)\n",
            "Requirement already satisfied: tensorboard-plugin-wit>=1.6.0 in /usr/local/lib/python3.6/dist-packages (from tensorboard~=2.4->tensorflow) (1.8.0)\n",
            "Requirement already satisfied: werkzeug>=0.11.15 in /usr/local/lib/python3.6/dist-packages (from tensorboard~=2.4->tensorflow) (1.0.1)\n",
            "Requirement already satisfied: google-auth<2,>=1.6.3 in /usr/local/lib/python3.6/dist-packages (from tensorboard~=2.4->tensorflow) (1.25.0)\n",
            "Requirement already satisfied: markdown>=2.6.8 in /usr/local/lib/python3.6/dist-packages (from tensorboard~=2.4->tensorflow) (3.3.3)\n",
            "Requirement already satisfied: setuptools>=41.0.0 in /usr/local/lib/python3.6/dist-packages (from tensorboard~=2.4->tensorflow) (53.0.0)\n",
            "Requirement already satisfied: google-auth-oauthlib<0.5,>=0.4.1 in /usr/local/lib/python3.6/dist-packages (from tensorboard~=2.4->tensorflow) (0.4.2)\n",
            "Requirement already satisfied: requests<3,>=2.21.0 in /usr/local/lib/python3.6/dist-packages (from tensorboard~=2.4->tensorflow) (2.23.0)\n",
            "Requirement already satisfied: rsa<5,>=3.1.4; python_version >= \"3.6\" in /usr/local/lib/python3.6/dist-packages (from google-auth<2,>=1.6.3->tensorboard~=2.4->tensorflow) (4.7)\n",
            "Requirement already satisfied: pyasn1-modules>=0.2.1 in /usr/local/lib/python3.6/dist-packages (from google-auth<2,>=1.6.3->tensorboard~=2.4->tensorflow) (0.2.8)\n",
            "Requirement already satisfied: cachetools<5.0,>=2.0.0 in /usr/local/lib/python3.6/dist-packages (from google-auth<2,>=1.6.3->tensorboard~=2.4->tensorflow) (4.2.1)\n",
            "Requirement already satisfied: importlib-metadata; python_version < \"3.8\" in /usr/local/lib/python3.6/dist-packages (from markdown>=2.6.8->tensorboard~=2.4->tensorflow) (3.4.0)\n",
            "Requirement already satisfied: requests-oauthlib>=0.7.0 in /usr/local/lib/python3.6/dist-packages (from google-auth-oauthlib<0.5,>=0.4.1->tensorboard~=2.4->tensorflow) (1.3.0)\n",
            "Requirement already satisfied: chardet<4,>=3.0.2 in /usr/local/lib/python3.6/dist-packages (from requests<3,>=2.21.0->tensorboard~=2.4->tensorflow) (3.0.4)\n",
            "Requirement already satisfied: certifi>=2017.4.17 in /usr/local/lib/python3.6/dist-packages (from requests<3,>=2.21.0->tensorboard~=2.4->tensorflow) (2020.12.5)\n",
            "Requirement already satisfied: idna<3,>=2.5 in /usr/local/lib/python3.6/dist-packages (from requests<3,>=2.21.0->tensorboard~=2.4->tensorflow) (2.10)\n",
            "Requirement already satisfied: urllib3!=1.25.0,!=1.25.1,<1.26,>=1.21.1 in /usr/local/lib/python3.6/dist-packages (from requests<3,>=2.21.0->tensorboard~=2.4->tensorflow) (1.24.3)\n",
            "Requirement already satisfied: pyasn1>=0.1.3 in /usr/local/lib/python3.6/dist-packages (from rsa<5,>=3.1.4; python_version >= \"3.6\"->google-auth<2,>=1.6.3->tensorboard~=2.4->tensorflow) (0.4.8)\n",
            "Requirement already satisfied: zipp>=0.5 in /usr/local/lib/python3.6/dist-packages (from importlib-metadata; python_version < \"3.8\"->markdown>=2.6.8->tensorboard~=2.4->tensorflow) (3.4.0)\n",
            "Requirement already satisfied: oauthlib>=3.0.0 in /usr/local/lib/python3.6/dist-packages (from requests-oauthlib>=0.7.0->google-auth-oauthlib<0.5,>=0.4.1->tensorboard~=2.4->tensorflow) (3.1.0)\n"
          ],
          "name": "stdout"
        }
      ]
    },
    {
      "cell_type": "code",
      "metadata": {
        "id": "-yzP6P8xQamL"
      },
      "source": [
        "!pip -qqq install tensorflow"
      ],
      "execution_count": 7,
      "outputs": []
    },
    {
      "cell_type": "markdown",
      "metadata": {
        "id": "_U035FJtJnD6"
      },
      "source": [
        "Parâmetros:\n",
        "\n",
        "\n",
        "*   -qqq: omitir a saída na tela\n",
        "\n",
        "Outros recursos do pip: [Manual do pip](https://pip.pypa.io/en/stable/reference/pip_install/)\n"
      ]
    },
    {
      "cell_type": "markdown",
      "metadata": {
        "id": "y6iyB1SfJS_1"
      },
      "source": [
        "**apt**"
      ]
    },
    {
      "cell_type": "code",
      "metadata": {
        "id": "UpjLsOJTNz4p",
        "colab": {
          "base_uri": "https://localhost:8080/"
        },
        "outputId": "8ae6b769-41ae-4719-92f3-03cfd7ea572e"
      },
      "source": [
        "!apt-get install tensorflow"
      ],
      "execution_count": 8,
      "outputs": [
        {
          "output_type": "stream",
          "text": [
            "Reading package lists... Done\n",
            "Building dependency tree       \n",
            "Reading state information... Done\n",
            "E: Unable to locate package tensorflow\n"
          ],
          "name": "stdout"
        }
      ]
    },
    {
      "cell_type": "code",
      "metadata": {
        "id": "AjGAoXozCthg",
        "colab": {
          "base_uri": "https://localhost:8080/"
        },
        "outputId": "c3ec41c0-d36b-464b-d102-4d3fa5632ff8"
      },
      "source": [
        "!apt-get -qq install tensorflow"
      ],
      "execution_count": 9,
      "outputs": [
        {
          "output_type": "stream",
          "text": [
            "E: Unable to locate package tensorflow\n"
          ],
          "name": "stdout"
        }
      ]
    },
    {
      "cell_type": "markdown",
      "metadata": {
        "id": "7Esis7E0KOA0"
      },
      "source": [
        "Parâmetros:\n",
        "\n",
        "\n",
        "*   -qq: omitir a saída na tela\n",
        "\n",
        "Outros recursos do apt:\n",
        "[Man page apt](http://manpages.ubuntu.com/manpages/xenial/man8/apt-get.8.html)\n"
      ]
    },
    {
      "cell_type": "markdown",
      "metadata": {
        "id": "KsHmIGVklMIH"
      },
      "source": [
        "## Dica\n",
        "\n",
        "As saídas de instalação de pacotes podem poluir bastante o notebook, faz sentido que utilizemos opções para supressão dessas informações."
      ]
    },
    {
      "cell_type": "markdown",
      "metadata": {
        "id": "8xLZJJeEDSpG"
      },
      "source": [
        "#Atualizar uma biblioteca"
      ]
    },
    {
      "cell_type": "code",
      "metadata": {
        "id": "Pfyg-De5DmG7",
        "colab": {
          "base_uri": "https://localhost:8080/"
        },
        "outputId": "34ddfefb-8f93-4bba-d002-fedf652820b5"
      },
      "source": [
        "# Instalar uma versão mais nova do pacote.\n",
        "!pip install --upgrade tensorflow\n",
        "\n",
        "# Instalar uma versão específica\n",
        "!pip install tensorflow==1.2\n",
        "\n",
        "# Instalar a última versão 'beta'\n",
        "!pip install tf-nightly"
      ],
      "execution_count": 10,
      "outputs": [
        {
          "output_type": "stream",
          "text": [
            "Requirement already up-to-date: tensorflow in /usr/local/lib/python3.6/dist-packages (2.4.1)\n",
            "Requirement already satisfied, skipping upgrade: absl-py~=0.10 in /usr/local/lib/python3.6/dist-packages (from tensorflow) (0.10.0)\n",
            "Requirement already satisfied, skipping upgrade: gast==0.3.3 in /usr/local/lib/python3.6/dist-packages (from tensorflow) (0.3.3)\n",
            "Requirement already satisfied, skipping upgrade: opt-einsum~=3.3.0 in /usr/local/lib/python3.6/dist-packages (from tensorflow) (3.3.0)\n",
            "Requirement already satisfied, skipping upgrade: termcolor~=1.1.0 in /usr/local/lib/python3.6/dist-packages (from tensorflow) (1.1.0)\n",
            "Requirement already satisfied, skipping upgrade: numpy~=1.19.2 in /usr/local/lib/python3.6/dist-packages (from tensorflow) (1.19.5)\n",
            "Requirement already satisfied, skipping upgrade: grpcio~=1.32.0 in /usr/local/lib/python3.6/dist-packages (from tensorflow) (1.32.0)\n",
            "Requirement already satisfied, skipping upgrade: protobuf>=3.9.2 in /usr/local/lib/python3.6/dist-packages (from tensorflow) (3.12.4)\n",
            "Requirement already satisfied, skipping upgrade: six~=1.15.0 in /usr/local/lib/python3.6/dist-packages (from tensorflow) (1.15.0)\n",
            "Requirement already satisfied, skipping upgrade: wrapt~=1.12.1 in /usr/local/lib/python3.6/dist-packages (from tensorflow) (1.12.1)\n",
            "Requirement already satisfied, skipping upgrade: h5py~=2.10.0 in /usr/local/lib/python3.6/dist-packages (from tensorflow) (2.10.0)\n",
            "Requirement already satisfied, skipping upgrade: wheel~=0.35 in /usr/local/lib/python3.6/dist-packages (from tensorflow) (0.36.2)\n",
            "Requirement already satisfied, skipping upgrade: flatbuffers~=1.12.0 in /usr/local/lib/python3.6/dist-packages (from tensorflow) (1.12)\n",
            "Requirement already satisfied, skipping upgrade: keras-preprocessing~=1.1.2 in /usr/local/lib/python3.6/dist-packages (from tensorflow) (1.1.2)\n",
            "Requirement already satisfied, skipping upgrade: typing-extensions~=3.7.4 in /usr/local/lib/python3.6/dist-packages (from tensorflow) (3.7.4.3)\n",
            "Requirement already satisfied, skipping upgrade: google-pasta~=0.2 in /usr/local/lib/python3.6/dist-packages (from tensorflow) (0.2.0)\n",
            "Requirement already satisfied, skipping upgrade: tensorflow-estimator<2.5.0,>=2.4.0 in /usr/local/lib/python3.6/dist-packages (from tensorflow) (2.4.0)\n",
            "Requirement already satisfied, skipping upgrade: astunparse~=1.6.3 in /usr/local/lib/python3.6/dist-packages (from tensorflow) (1.6.3)\n",
            "Requirement already satisfied, skipping upgrade: tensorboard~=2.4 in /usr/local/lib/python3.6/dist-packages (from tensorflow) (2.4.1)\n",
            "Requirement already satisfied, skipping upgrade: setuptools in /usr/local/lib/python3.6/dist-packages (from protobuf>=3.9.2->tensorflow) (53.0.0)\n",
            "Requirement already satisfied, skipping upgrade: requests<3,>=2.21.0 in /usr/local/lib/python3.6/dist-packages (from tensorboard~=2.4->tensorflow) (2.23.0)\n",
            "Requirement already satisfied, skipping upgrade: markdown>=2.6.8 in /usr/local/lib/python3.6/dist-packages (from tensorboard~=2.4->tensorflow) (3.3.3)\n",
            "Requirement already satisfied, skipping upgrade: tensorboard-plugin-wit>=1.6.0 in /usr/local/lib/python3.6/dist-packages (from tensorboard~=2.4->tensorflow) (1.8.0)\n",
            "Requirement already satisfied, skipping upgrade: google-auth<2,>=1.6.3 in /usr/local/lib/python3.6/dist-packages (from tensorboard~=2.4->tensorflow) (1.25.0)\n",
            "Requirement already satisfied, skipping upgrade: google-auth-oauthlib<0.5,>=0.4.1 in /usr/local/lib/python3.6/dist-packages (from tensorboard~=2.4->tensorflow) (0.4.2)\n",
            "Requirement already satisfied, skipping upgrade: werkzeug>=0.11.15 in /usr/local/lib/python3.6/dist-packages (from tensorboard~=2.4->tensorflow) (1.0.1)\n",
            "Requirement already satisfied, skipping upgrade: chardet<4,>=3.0.2 in /usr/local/lib/python3.6/dist-packages (from requests<3,>=2.21.0->tensorboard~=2.4->tensorflow) (3.0.4)\n",
            "Requirement already satisfied, skipping upgrade: idna<3,>=2.5 in /usr/local/lib/python3.6/dist-packages (from requests<3,>=2.21.0->tensorboard~=2.4->tensorflow) (2.10)\n",
            "Requirement already satisfied, skipping upgrade: certifi>=2017.4.17 in /usr/local/lib/python3.6/dist-packages (from requests<3,>=2.21.0->tensorboard~=2.4->tensorflow) (2020.12.5)\n",
            "Requirement already satisfied, skipping upgrade: urllib3!=1.25.0,!=1.25.1,<1.26,>=1.21.1 in /usr/local/lib/python3.6/dist-packages (from requests<3,>=2.21.0->tensorboard~=2.4->tensorflow) (1.24.3)\n",
            "Requirement already satisfied, skipping upgrade: importlib-metadata; python_version < \"3.8\" in /usr/local/lib/python3.6/dist-packages (from markdown>=2.6.8->tensorboard~=2.4->tensorflow) (3.4.0)\n",
            "Requirement already satisfied, skipping upgrade: rsa<5,>=3.1.4; python_version >= \"3.6\" in /usr/local/lib/python3.6/dist-packages (from google-auth<2,>=1.6.3->tensorboard~=2.4->tensorflow) (4.7)\n",
            "Requirement already satisfied, skipping upgrade: pyasn1-modules>=0.2.1 in /usr/local/lib/python3.6/dist-packages (from google-auth<2,>=1.6.3->tensorboard~=2.4->tensorflow) (0.2.8)\n",
            "Requirement already satisfied, skipping upgrade: cachetools<5.0,>=2.0.0 in /usr/local/lib/python3.6/dist-packages (from google-auth<2,>=1.6.3->tensorboard~=2.4->tensorflow) (4.2.1)\n",
            "Requirement already satisfied, skipping upgrade: requests-oauthlib>=0.7.0 in /usr/local/lib/python3.6/dist-packages (from google-auth-oauthlib<0.5,>=0.4.1->tensorboard~=2.4->tensorflow) (1.3.0)\n",
            "Requirement already satisfied, skipping upgrade: zipp>=0.5 in /usr/local/lib/python3.6/dist-packages (from importlib-metadata; python_version < \"3.8\"->markdown>=2.6.8->tensorboard~=2.4->tensorflow) (3.4.0)\n",
            "Requirement already satisfied, skipping upgrade: pyasn1>=0.1.3 in /usr/local/lib/python3.6/dist-packages (from rsa<5,>=3.1.4; python_version >= \"3.6\"->google-auth<2,>=1.6.3->tensorboard~=2.4->tensorflow) (0.4.8)\n",
            "Requirement already satisfied, skipping upgrade: oauthlib>=3.0.0 in /usr/local/lib/python3.6/dist-packages (from requests-oauthlib>=0.7.0->google-auth-oauthlib<0.5,>=0.4.1->tensorboard~=2.4->tensorflow) (3.1.0)\n",
            "Collecting tensorflow==1.2\n",
            "\u001b[?25l  Downloading https://files.pythonhosted.org/packages/5e/55/7995cc1e9e60fa37ea90e6777d832e75026fde5c6109215d892aaff2e9b7/tensorflow-1.2.0-cp36-cp36m-manylinux1_x86_64.whl (35.0MB)\n",
            "\u001b[K     |████████████████████████████████| 35.0MB 94kB/s \n",
            "\u001b[?25hCollecting markdown==2.2.0\n",
            "\u001b[?25l  Downloading https://files.pythonhosted.org/packages/ac/99/288a81a38526a42c98b5b9832c6e339ca8d5dd38b19a53abfac7c8037c7f/Markdown-2.2.0.tar.gz (236kB)\n",
            "\u001b[K     |████████████████████████████████| 245kB 50.8MB/s \n",
            "\u001b[?25hCollecting html5lib==0.9999999\n",
            "\u001b[?25l  Downloading https://files.pythonhosted.org/packages/ae/ae/bcb60402c60932b32dfaf19bb53870b29eda2cd17551ba5639219fb5ebf9/html5lib-0.9999999.tar.gz (889kB)\n",
            "\u001b[K     |████████████████████████████████| 890kB 47.9MB/s \n",
            "\u001b[?25hCollecting bleach==1.5.0\n",
            "  Downloading https://files.pythonhosted.org/packages/33/70/86c5fec937ea4964184d4d6c4f0b9551564f821e1c3575907639036d9b90/bleach-1.5.0-py2.py3-none-any.whl\n",
            "Requirement already satisfied: six>=1.10.0 in /usr/local/lib/python3.6/dist-packages (from tensorflow==1.2) (1.15.0)\n",
            "Requirement already satisfied: numpy>=1.11.0 in /usr/local/lib/python3.6/dist-packages (from tensorflow==1.2) (1.19.5)\n",
            "Requirement already satisfied: protobuf>=3.2.0 in /usr/local/lib/python3.6/dist-packages (from tensorflow==1.2) (3.12.4)\n",
            "Collecting backports.weakref==1.0rc1\n",
            "  Downloading https://files.pythonhosted.org/packages/6a/f7/ae34b6818b603e264f26fe7db2bd07850ce331ce2fde74b266d61f4a2d87/backports.weakref-1.0rc1-py3-none-any.whl\n",
            "Requirement already satisfied: werkzeug>=0.11.10 in /usr/local/lib/python3.6/dist-packages (from tensorflow==1.2) (1.0.1)\n",
            "Requirement already satisfied: wheel>=0.26 in /usr/local/lib/python3.6/dist-packages (from tensorflow==1.2) (0.36.2)\n",
            "Requirement already satisfied: setuptools in /usr/local/lib/python3.6/dist-packages (from protobuf>=3.2.0->tensorflow==1.2) (53.0.0)\n",
            "Building wheels for collected packages: markdown, html5lib\n",
            "  Building wheel for markdown (setup.py) ... \u001b[?25l\u001b[?25hdone\n",
            "  Created wheel for markdown: filename=Markdown-2.2.0-cp36-none-any.whl size=136286 sha256=11e877cd67ae3c120375079617f7702825c5f3d3ed33ec2770609dca356fe8d5\n",
            "  Stored in directory: /root/.cache/pip/wheels/b6/52/17/f0af18e3e0ec6fa60b361ffed15b4c3468f6f3bcdb87fbe079\n",
            "  Building wheel for html5lib (setup.py) ... \u001b[?25l\u001b[?25hdone\n",
            "  Created wheel for html5lib: filename=html5lib-0.9999999-cp36-none-any.whl size=107222 sha256=2b42bb34415c74beb53ebeed273f21a01c0eeb9793d746890ef451d1bc349886\n",
            "  Stored in directory: /root/.cache/pip/wheels/50/ae/f9/d2b189788efcf61d1ee0e36045476735c838898eef1cad6e29\n",
            "Successfully built markdown html5lib\n",
            "\u001b[31mERROR: tensorboard 2.4.1 has requirement markdown>=2.6.8, but you'll have markdown 2.2.0 which is incompatible.\u001b[0m\n",
            "Installing collected packages: markdown, html5lib, bleach, backports.weakref, tensorflow\n",
            "  Found existing installation: Markdown 3.3.3\n",
            "    Uninstalling Markdown-3.3.3:\n",
            "      Successfully uninstalled Markdown-3.3.3\n",
            "  Found existing installation: html5lib 1.0.1\n",
            "    Uninstalling html5lib-1.0.1:\n",
            "      Successfully uninstalled html5lib-1.0.1\n",
            "  Found existing installation: bleach 3.3.0\n",
            "    Uninstalling bleach-3.3.0:\n",
            "      Successfully uninstalled bleach-3.3.0\n",
            "  Found existing installation: tensorflow 2.4.1\n",
            "    Uninstalling tensorflow-2.4.1:\n",
            "      Successfully uninstalled tensorflow-2.4.1\n",
            "Successfully installed backports.weakref-1.0rc1 bleach-1.5.0 html5lib-0.9999999 markdown-2.2.0 tensorflow-1.2.0\n",
            "Collecting tf-nightly\n",
            "\u001b[?25l  Downloading https://files.pythonhosted.org/packages/65/c8/7e849a0a1d1eb7fce4d99212e2cdd78c6abce3610f04efde8cf2d21f0ee1/tf_nightly-2.5.0.dev20210218-cp36-cp36m-manylinux2010_x86_64.whl (408.3MB)\n",
            "\u001b[K     |████████████████████████████████| 408.3MB 39kB/s \n",
            "\u001b[?25hRequirement already satisfied: wrapt~=1.12.1 in /usr/local/lib/python3.6/dist-packages (from tf-nightly) (1.12.1)\n",
            "Requirement already satisfied: protobuf>=3.9.2 in /usr/local/lib/python3.6/dist-packages (from tf-nightly) (3.12.4)\n",
            "Requirement already satisfied: typing-extensions~=3.7.4 in /usr/local/lib/python3.6/dist-packages (from tf-nightly) (3.7.4.3)\n",
            "Requirement already satisfied: absl-py~=0.10 in /usr/local/lib/python3.6/dist-packages (from tf-nightly) (0.10.0)\n",
            "Requirement already satisfied: six~=1.15.0 in /usr/local/lib/python3.6/dist-packages (from tf-nightly) (1.15.0)\n",
            "Collecting tb-nightly~=2.5.0.a\n",
            "\u001b[?25l  Downloading https://files.pythonhosted.org/packages/c8/bb/c0b7b2c46af2d9de2697fdc500f813bec9b3d251cf1c7ca3ecb65334b829/tb_nightly-2.5.0a20210219-py3-none-any.whl (5.9MB)\n",
            "\u001b[K     |████████████████████████████████| 5.9MB 51.2MB/s \n",
            "\u001b[?25hRequirement already satisfied: flatbuffers~=1.12.0 in /usr/local/lib/python3.6/dist-packages (from tf-nightly) (1.12)\n",
            "Requirement already satisfied: termcolor~=1.1.0 in /usr/local/lib/python3.6/dist-packages (from tf-nightly) (1.1.0)\n",
            "Requirement already satisfied: opt-einsum~=3.3.0 in /usr/local/lib/python3.6/dist-packages (from tf-nightly) (3.3.0)\n",
            "Requirement already satisfied: wheel~=0.35 in /usr/local/lib/python3.6/dist-packages (from tf-nightly) (0.36.2)\n",
            "Collecting h5py~=3.1.0\n",
            "\u001b[?25l  Downloading https://files.pythonhosted.org/packages/70/7a/e53e500335afb6b1aade11227cdf107fca54106a1dca5c9d13242a043f3b/h5py-3.1.0-cp36-cp36m-manylinux1_x86_64.whl (4.0MB)\n",
            "\u001b[K     |████████████████████████████████| 4.0MB 48.0MB/s \n",
            "\u001b[?25hRequirement already satisfied: google-pasta~=0.2 in /usr/local/lib/python3.6/dist-packages (from tf-nightly) (0.2.0)\n",
            "Collecting grpcio~=1.34.0\n",
            "\u001b[?25l  Downloading https://files.pythonhosted.org/packages/ab/f5/3d3bcb82beae990021cbf6877456a1aab650e68c902194566edd6a73e37c/grpcio-1.34.1-cp36-cp36m-manylinux2014_x86_64.whl (4.0MB)\n",
            "\u001b[K     |████████████████████████████████| 4.0MB 39.0MB/s \n",
            "\u001b[?25hCollecting tf-estimator-nightly~=2.5.0.dev\n",
            "\u001b[?25l  Downloading https://files.pythonhosted.org/packages/64/cb/b0dba4f6074b825d64601319cd9eff2ce7dfda16540fc31a41ecb0f9a20f/tf_estimator_nightly-2.5.0.dev2021021901-py2.py3-none-any.whl (462kB)\n",
            "\u001b[K     |████████████████████████████████| 471kB 52.0MB/s \n",
            "\u001b[?25hCollecting gast==0.4.0\n",
            "  Downloading https://files.pythonhosted.org/packages/b6/48/583c032b79ae5b3daa02225a675aeb673e58d2cb698e78510feceb11958c/gast-0.4.0-py3-none-any.whl\n",
            "Requirement already satisfied: keras-preprocessing~=1.1.2 in /usr/local/lib/python3.6/dist-packages (from tf-nightly) (1.1.2)\n",
            "Requirement already satisfied: numpy~=1.19.2 in /usr/local/lib/python3.6/dist-packages (from tf-nightly) (1.19.5)\n",
            "Requirement already satisfied: astunparse~=1.6.3 in /usr/local/lib/python3.6/dist-packages (from tf-nightly) (1.6.3)\n",
            "Requirement already satisfied: setuptools in /usr/local/lib/python3.6/dist-packages (from protobuf>=3.9.2->tf-nightly) (53.0.0)\n",
            "Requirement already satisfied: tensorboard-plugin-wit>=1.6.0 in /usr/local/lib/python3.6/dist-packages (from tb-nightly~=2.5.0.a->tf-nightly) (1.8.0)\n",
            "Collecting markdown>=2.6.8\n",
            "\u001b[?25l  Downloading https://files.pythonhosted.org/packages/ac/ef/24a91ca96efa0d7802dffb83ccc7a3c677027bea19ec3c9ee80be740408e/Markdown-3.3.3-py3-none-any.whl (96kB)\n",
            "\u001b[K     |████████████████████████████████| 102kB 14.9MB/s \n",
            "\u001b[?25hRequirement already satisfied: google-auth<2,>=1.6.3 in /usr/local/lib/python3.6/dist-packages (from tb-nightly~=2.5.0.a->tf-nightly) (1.25.0)\n",
            "Requirement already satisfied: google-auth-oauthlib<0.5,>=0.4.1 in /usr/local/lib/python3.6/dist-packages (from tb-nightly~=2.5.0.a->tf-nightly) (0.4.2)\n",
            "Requirement already satisfied: requests<3,>=2.21.0 in /usr/local/lib/python3.6/dist-packages (from tb-nightly~=2.5.0.a->tf-nightly) (2.23.0)\n",
            "Collecting tensorboard-data-server<0.4.0,>=0.3.0\n",
            "\u001b[?25l  Downloading https://files.pythonhosted.org/packages/f2/6f/a1a04f6aece9cdabe80fba01241e76172380753801e34ad50d482fbde0c0/tensorboard_data_server-0.3.0-py3-none-manylinux2010_x86_64.whl (3.8MB)\n",
            "\u001b[K     |████████████████████████████████| 3.8MB 45.3MB/s \n",
            "\u001b[?25hRequirement already satisfied: werkzeug>=0.11.15 in /usr/local/lib/python3.6/dist-packages (from tb-nightly~=2.5.0.a->tf-nightly) (1.0.1)\n",
            "Collecting cached-property; python_version < \"3.8\"\n",
            "  Downloading https://files.pythonhosted.org/packages/48/19/f2090f7dad41e225c7f2326e4cfe6fff49e57dedb5b53636c9551f86b069/cached_property-1.5.2-py2.py3-none-any.whl\n",
            "Requirement already satisfied: importlib-metadata; python_version < \"3.8\" in /usr/local/lib/python3.6/dist-packages (from markdown>=2.6.8->tb-nightly~=2.5.0.a->tf-nightly) (3.4.0)\n",
            "Requirement already satisfied: cachetools<5.0,>=2.0.0 in /usr/local/lib/python3.6/dist-packages (from google-auth<2,>=1.6.3->tb-nightly~=2.5.0.a->tf-nightly) (4.2.1)\n",
            "Requirement already satisfied: pyasn1-modules>=0.2.1 in /usr/local/lib/python3.6/dist-packages (from google-auth<2,>=1.6.3->tb-nightly~=2.5.0.a->tf-nightly) (0.2.8)\n",
            "Requirement already satisfied: rsa<5,>=3.1.4; python_version >= \"3.6\" in /usr/local/lib/python3.6/dist-packages (from google-auth<2,>=1.6.3->tb-nightly~=2.5.0.a->tf-nightly) (4.7)\n",
            "Requirement already satisfied: requests-oauthlib>=0.7.0 in /usr/local/lib/python3.6/dist-packages (from google-auth-oauthlib<0.5,>=0.4.1->tb-nightly~=2.5.0.a->tf-nightly) (1.3.0)\n",
            "Requirement already satisfied: chardet<4,>=3.0.2 in /usr/local/lib/python3.6/dist-packages (from requests<3,>=2.21.0->tb-nightly~=2.5.0.a->tf-nightly) (3.0.4)\n",
            "Requirement already satisfied: idna<3,>=2.5 in /usr/local/lib/python3.6/dist-packages (from requests<3,>=2.21.0->tb-nightly~=2.5.0.a->tf-nightly) (2.10)\n",
            "Requirement already satisfied: urllib3!=1.25.0,!=1.25.1,<1.26,>=1.21.1 in /usr/local/lib/python3.6/dist-packages (from requests<3,>=2.21.0->tb-nightly~=2.5.0.a->tf-nightly) (1.24.3)\n",
            "Requirement already satisfied: certifi>=2017.4.17 in /usr/local/lib/python3.6/dist-packages (from requests<3,>=2.21.0->tb-nightly~=2.5.0.a->tf-nightly) (2020.12.5)\n",
            "Requirement already satisfied: zipp>=0.5 in /usr/local/lib/python3.6/dist-packages (from importlib-metadata; python_version < \"3.8\"->markdown>=2.6.8->tb-nightly~=2.5.0.a->tf-nightly) (3.4.0)\n",
            "Requirement already satisfied: pyasn1<0.5.0,>=0.4.6 in /usr/local/lib/python3.6/dist-packages (from pyasn1-modules>=0.2.1->google-auth<2,>=1.6.3->tb-nightly~=2.5.0.a->tf-nightly) (0.4.8)\n",
            "Requirement already satisfied: oauthlib>=3.0.0 in /usr/local/lib/python3.6/dist-packages (from requests-oauthlib>=0.7.0->google-auth-oauthlib<0.5,>=0.4.1->tb-nightly~=2.5.0.a->tf-nightly) (3.1.0)\n",
            "\u001b[31mERROR: tensorflow 1.2.0 has requirement markdown==2.2.0, but you'll have markdown 3.3.3 which is incompatible.\u001b[0m\n",
            "Installing collected packages: markdown, grpcio, tensorboard-data-server, tb-nightly, cached-property, h5py, tf-estimator-nightly, gast, tf-nightly\n",
            "  Found existing installation: Markdown 2.2.0\n",
            "    Uninstalling Markdown-2.2.0:\n",
            "      Successfully uninstalled Markdown-2.2.0\n",
            "  Found existing installation: grpcio 1.32.0\n",
            "    Uninstalling grpcio-1.32.0:\n",
            "      Successfully uninstalled grpcio-1.32.0\n",
            "  Found existing installation: h5py 2.10.0\n",
            "    Uninstalling h5py-2.10.0:\n",
            "      Successfully uninstalled h5py-2.10.0\n",
            "  Found existing installation: gast 0.3.3\n",
            "    Uninstalling gast-0.3.3:\n",
            "      Successfully uninstalled gast-0.3.3\n",
            "Successfully installed cached-property-1.5.2 gast-0.4.0 grpcio-1.34.1 h5py-3.1.0 markdown-3.3.3 tb-nightly-2.5.0a20210219 tensorboard-data-server-0.3.0 tf-estimator-nightly-2.5.0.dev2021021901 tf-nightly-2.5.0.dev20210218\n"
          ],
          "name": "stdout"
        }
      ]
    },
    {
      "cell_type": "markdown",
      "metadata": {
        "id": "I6pNldrgEUlo"
      },
      "source": [
        "#Importar uma biblioteca"
      ]
    },
    {
      "cell_type": "code",
      "metadata": {
        "id": "HDXupGf4ETb-"
      },
      "source": [
        "import tensorflow"
      ],
      "execution_count": 12,
      "outputs": []
    }
  ]
}