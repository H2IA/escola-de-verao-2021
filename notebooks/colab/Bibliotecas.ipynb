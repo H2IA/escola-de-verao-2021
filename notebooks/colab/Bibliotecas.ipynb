{
  "nbformat": 4,
  "nbformat_minor": 0,
  "metadata": {
    "colab": {
      "name": "Bibliotecas.ipynb",
      "provenance": [],
      "collapsed_sections": [],
      "authorship_tag": "ABX9TyPqcLuO3v8lG0tZNErzvdHI",
      "include_colab_link": true
    },
    "kernelspec": {
      "name": "python3",
      "display_name": "Python 3"
    },
    "accelerator": "GPU"
  },
  "cells": [
    {
      "cell_type": "markdown",
      "metadata": {
        "id": "view-in-github",
        "colab_type": "text"
      },
      "source": [
        "<a href=\"https://colab.research.google.com/github/H2IA/escola-de-verao-2021/blob/main/notebooks/colab/Bibliotecas.ipynb\" target=\"_parent\"><img src=\"https://colab.research.google.com/assets/colab-badge.svg\" alt=\"Open In Colab\"/></a>"
      ]
    },
    {
      "cell_type": "markdown",
      "metadata": {
        "id": "V-VMZXBJwTZu"
      },
      "source": [
        "[![Open In Colab](https://colab.research.google.com/assets/colab-badge.svg)](https://github.com/H2IA/escola-de-verao-2021/tree/main/notebooks/colab/Bibliotecas.ipynb)\n"
      ]
    },
    {
      "cell_type": "markdown",
      "metadata": {
        "id": "olI9vj-vI6fZ"
      },
      "source": [
        "# Sobre o Google Colaboratory\n",
        "O Colab instancia uma máquina virtual linux com um ambiente python3 disponível.\n",
        "\n",
        "Você pode executar comandos na máquina linux, fora do ambiente python, usando o operador ***!***\n",
        "\n"
      ]
    },
    {
      "cell_type": "code",
      "metadata": {
        "id": "ZnPPzj5fMKUM"
      },
      "source": [
        "!apt-get -qq -y install inxi "
      ],
      "execution_count": null,
      "outputs": []
    },
    {
      "cell_type": "code",
      "metadata": {
        "id": "q15bua5UL_Ei"
      },
      "source": [
        "!inxi -b # verifica a saída com uma VM com GPU e sem GPU"
      ],
      "execution_count": null,
      "outputs": []
    },
    {
      "cell_type": "code",
      "metadata": {
        "id": "I93tGmGNNFw2"
      },
      "source": [
        "!nvidia-smi # verifica características da placa de vídeo\n",
        "#se usamos demais o Google pode restringir nosso acesso a VMs com GPU, ou nos colocar em VMs com uma GPU menos potente."
      ],
      "execution_count": null,
      "outputs": []
    },
    {
      "cell_type": "markdown",
      "metadata": {
        "id": "kRSSYY5dLNg9"
      },
      "source": [
        "# Para determinar qual versão disponível no Colaboratory\n",
        "\n",
        "É importante saber qual versão específica de determinada biblioteca.\n",
        "\n",
        "Implementações de métodos de aprendizado de máquina, muitas vezes, dependem de versões específicas de bibliotecas de software.\n",
        "\n",
        "Mais adiante você verá como instalar uma versão específica de um pacote python com o pip.\n"
      ]
    },
    {
      "cell_type": "code",
      "metadata": {
        "id": "LSnubvBVLMpM"
      },
      "source": [
        "!pip show tensorflow"
      ],
      "execution_count": null,
      "outputs": []
    },
    {
      "cell_type": "markdown",
      "metadata": {
        "id": "Sk0gyLZGCULV"
      },
      "source": [
        "#Instalar uma biblioteca que não está no Colaboratory\n",
        "\n",
        "Para instalar uma biblioteca que não está no Colaboratory você pode usar  Package Installer for Python (PIP) ou Advanced Package Tool (APT)."
      ]
    },
    {
      "cell_type": "markdown",
      "metadata": {
        "id": "Q2O0GDTPJLf2"
      },
      "source": [
        "**pip**"
      ]
    },
    {
      "cell_type": "code",
      "metadata": {
        "id": "DKXmh8M5CR2e"
      },
      "source": [
        "!pip install tensorflow"
      ],
      "execution_count": null,
      "outputs": []
    },
    {
      "cell_type": "code",
      "metadata": {
        "id": "-yzP6P8xQamL"
      },
      "source": [
        "!pip -qqq install tensorflow"
      ],
      "execution_count": null,
      "outputs": []
    },
    {
      "cell_type": "markdown",
      "metadata": {
        "id": "_U035FJtJnD6"
      },
      "source": [
        "Parâmetros:\n",
        "\n",
        "\n",
        "*   -qqq: omitir a saída na tela\n",
        "\n",
        "Outros recursos do pip: [Manual do pip](https://pip.pypa.io/en/stable/reference/pip_install/)\n"
      ]
    },
    {
      "cell_type": "markdown",
      "metadata": {
        "id": "y6iyB1SfJS_1"
      },
      "source": [
        "**apt**"
      ]
    },
    {
      "cell_type": "code",
      "metadata": {
        "id": "UpjLsOJTNz4p"
      },
      "source": [
        "!apt-get install tensorflow"
      ],
      "execution_count": null,
      "outputs": []
    },
    {
      "cell_type": "code",
      "metadata": {
        "id": "AjGAoXozCthg"
      },
      "source": [
        "!apt-get -qq install tensorflow"
      ],
      "execution_count": null,
      "outputs": []
    },
    {
      "cell_type": "markdown",
      "metadata": {
        "id": "7Esis7E0KOA0"
      },
      "source": [
        "Parâmetros:\n",
        "\n",
        "\n",
        "*   -qq: omitir a saída na tela\n",
        "\n",
        "Outros recursos do apt:\n",
        "[Man page apt](http://manpages.ubuntu.com/manpages/xenial/man8/apt-get.8.html)\n"
      ]
    },
    {
      "cell_type": "markdown",
      "metadata": {
        "id": "KsHmIGVklMIH"
      },
      "source": [
        "## Dica\n",
        "\n",
        "As saídas de instalação de pacotes podem poluir bastante o notebook, faz sentido que utilizemos opções para supressão dessas informações."
      ]
    },
    {
      "cell_type": "markdown",
      "metadata": {
        "id": "8xLZJJeEDSpG"
      },
      "source": [
        "#Atualizar uma biblioteca"
      ]
    },
    {
      "cell_type": "code",
      "metadata": {
        "id": "Pfyg-De5DmG7"
      },
      "source": [
        "# Instalar uma versão mais nova do pacote.\n",
        "!pip install --upgrade tensorflow\n",
        "\n",
        "# Instalar uma versão específica\n",
        "!pip install tensorflow==1.2\n",
        "\n",
        "# Instalar a última versão 'beta'\n",
        "!pip install tf-nightly"
      ],
      "execution_count": null,
      "outputs": []
    },
    {
      "cell_type": "markdown",
      "metadata": {
        "id": "I6pNldrgEUlo"
      },
      "source": [
        "#Importar uma biblioteca"
      ]
    },
    {
      "cell_type": "code",
      "metadata": {
        "id": "HDXupGf4ETb-"
      },
      "source": [
        "import tensorflow"
      ],
      "execution_count": null,
      "outputs": []
    },
    {
      "cell_type": "code",
      "metadata": {
        "id": "AEzc1KzNlZwv"
      },
      "source": [
        "pip"
      ],
      "execution_count": null,
      "outputs": []
    },
    {
      "cell_type": "code",
      "metadata": {
        "id": "5rkyu3RQlaNp"
      },
      "source": [
        ""
      ],
      "execution_count": null,
      "outputs": []
    }
  ]
}