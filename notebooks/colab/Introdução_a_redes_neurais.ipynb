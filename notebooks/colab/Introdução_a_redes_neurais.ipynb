{
  "nbformat": 4,
  "nbformat_minor": 0,
  "metadata": {
    "colab": {
      "name": "Introdução a redes neurais.ipynb",
      "provenance": [],
      "collapsed_sections": [],
      "authorship_tag": "ABX9TyN6UAiM0gLl/lqnA/1Zabsw",
      "include_colab_link": true
    },
    "kernelspec": {
      "name": "python3",
      "display_name": "Python 3"
    }
  },
  "cells": [
    {
      "cell_type": "markdown",
      "metadata": {
        "id": "view-in-github",
        "colab_type": "text"
      },
      "source": [
        "<a href=\"https://colab.research.google.com/github/H2IA/escola-de-verao-2021/blob/main/Introdu%C3%A7%C3%A3o_a_redes_neurais.ipynb\" target=\"_parent\"><img src=\"https://colab.research.google.com/assets/colab-badge.svg\" alt=\"Open In Colab\"/></a>"
      ]
    },
    {
      "cell_type": "markdown",
      "metadata": {
        "id": "sHWLzCQUoInO"
      },
      "source": [
        "# Introdução a redes neurais com PyTorch\r\n",
        "\r\n",
        "O PyTorch é um *framework* para *deep learning* desenvolvido para linguagem Python baseado no Torch, originalmente implementando em linguagme Lua. De modo similar do TensorFlow, o PyTorch permite a criação de redes neurais profundas tanto de forma **declarativa** (útil para usuários iniciantes) quanto **imperativa** (útil para usuários mais avançados)."
      ]
    },
    {
      "cell_type": "markdown",
      "metadata": {
        "id": "WOTv6Is68uUy"
      },
      "source": [
        "## Tensores\r\n",
        "\r\n",
        "As operações realizadas pelo PyTorch devem utilizar a classe `torch.tensor` como base, que fornece uma interface similar à classe `numpy.array`. É possível criar um novo objeto de tensor a partir de listas em *arrays* do `numpy` de forma simples:"
      ]
    },
    {
      "cell_type": "code",
      "metadata": {
        "id": "z4faxgkaszwS"
      },
      "source": [
        "import torch\r\n",
        "import numpy as np"
      ],
      "execution_count": 2,
      "outputs": []
    },
    {
      "cell_type": "code",
      "metadata": {
        "colab": {
          "base_uri": "https://localhost:8080/"
        },
        "id": "aCdGUth47n4J",
        "outputId": "ba2d3b3e-e4db-4fba-bf4c-a07903343bd0"
      },
      "source": [
        "data = [[1,2], [3,4]]\r\n",
        "x_data = torch.tensor(data)\r\n",
        "x_data"
      ],
      "execution_count": 3,
      "outputs": [
        {
          "output_type": "execute_result",
          "data": {
            "text/plain": [
              "tensor([[1, 2],\n",
              "        [3, 4]])"
            ]
          },
          "metadata": {
            "tags": []
          },
          "execution_count": 3
        }
      ]
    },
    {
      "cell_type": "code",
      "metadata": {
        "colab": {
          "base_uri": "https://localhost:8080/"
        },
        "id": "uzSGGR8H7n1J",
        "outputId": "02e69a8f-2cff-43a7-ea37-3a97343a0466"
      },
      "source": [
        "data_array = np.array(data)\r\n",
        "x_data = torch.from_numpy(data_array)\r\n",
        "x_data"
      ],
      "execution_count": 4,
      "outputs": [
        {
          "output_type": "execute_result",
          "data": {
            "text/plain": [
              "tensor([[1, 2],\n",
              "        [3, 4]])"
            ]
          },
          "metadata": {
            "tags": []
          },
          "execution_count": 4
        }
      ]
    },
    {
      "cell_type": "markdown",
      "metadata": {
        "id": "OhIJp9-xAHKP"
      },
      "source": [
        "*Slicing* de tensores usando a sintaxe do numpy."
      ]
    },
    {
      "cell_type": "code",
      "metadata": {
        "id": "5Vu74RNt9o-l",
        "colab": {
          "base_uri": "https://localhost:8080/"
        },
        "outputId": "9c9fc887-a4ce-4bae-e960-1ca114d5ecec"
      },
      "source": [
        "data_array[:, 1] "
      ],
      "execution_count": 5,
      "outputs": [
        {
          "output_type": "execute_result",
          "data": {
            "text/plain": [
              "array([2, 4])"
            ]
          },
          "metadata": {
            "tags": []
          },
          "execution_count": 5
        }
      ]
    },
    {
      "cell_type": "markdown",
      "metadata": {
        "id": "RWqDOuTkAKev"
      },
      "source": [
        "Operações com tensores são \"*element-wise*\"\r\n"
      ]
    },
    {
      "cell_type": "code",
      "metadata": {
        "id": "CP12LquB9swe",
        "colab": {
          "base_uri": "https://localhost:8080/"
        },
        "outputId": "b3c46fe8-4a89-45a6-9518-46cb5ec85da9"
      },
      "source": [
        "data_array * 1000"
      ],
      "execution_count": 6,
      "outputs": [
        {
          "output_type": "execute_result",
          "data": {
            "text/plain": [
              "array([[1000, 2000],\n",
              "       [3000, 4000]])"
            ]
          },
          "metadata": {
            "tags": []
          },
          "execution_count": 6
        }
      ]
    },
    {
      "cell_type": "markdown",
      "metadata": {
        "id": "Jxrr9SdH_cv4"
      },
      "source": [
        "Também podemos criar tensores com \"forma\" (*shape*) pré-definida contendo valores fixos (ex: 0 ou 1) ou aleatórios."
      ]
    },
    {
      "cell_type": "code",
      "metadata": {
        "id": "f0t5GIr67nyQ",
        "colab": {
          "base_uri": "https://localhost:8080/"
        },
        "outputId": "05941e26-2ab0-4525-acd7-75040b4eca88"
      },
      "source": [
        "shape = (3,2,1)\r\n",
        "\r\n",
        "x_data_random = torch.rand(shape)\r\n",
        "print('random:', x_data_random)\r\n",
        "\r\n",
        "x_data_ones   = torch.ones(shape)\r\n",
        "print('ones:', x_data_ones)\r\n",
        "\r\n",
        "x_data_zeros  = torch.zeros(shape)\r\n",
        "print('zeros:', x_data_zeros)"
      ],
      "execution_count": 7,
      "outputs": [
        {
          "output_type": "stream",
          "text": [
            "random: tensor([[[0.8425],\n",
            "         [0.4266]],\n",
            "\n",
            "        [[0.2849],\n",
            "         [0.2382]],\n",
            "\n",
            "        [[0.5657],\n",
            "         [0.1973]]])\n",
            "ones: tensor([[[1.],\n",
            "         [1.]],\n",
            "\n",
            "        [[1.],\n",
            "         [1.]],\n",
            "\n",
            "        [[1.],\n",
            "         [1.]]])\n",
            "zeros: tensor([[[0.],\n",
            "         [0.]],\n",
            "\n",
            "        [[0.],\n",
            "         [0.]],\n",
            "\n",
            "        [[0.],\n",
            "         [0.]]])\n"
          ],
          "name": "stdout"
        }
      ]
    },
    {
      "cell_type": "markdown",
      "metadata": {
        "id": "MaRFi2nT_t5A"
      },
      "source": [
        "Um grande diferencial dos tensores do `pytorch` em relação aos arrays do `numpy` é a sua afinidade com unidades de processamento (ex: CPU, GPU)."
      ]
    },
    {
      "cell_type": "code",
      "metadata": {
        "id": "y6iwlz7h7nnB",
        "colab": {
          "base_uri": "https://localhost:8080/"
        },
        "outputId": "742f1cda-b8bc-406e-ff50-32a2d9fc4aac"
      },
      "source": [
        "print('tensor shape:             ', x_data.shape)\r\n",
        "print('tensor data type (dtype): ', x_data.dtype)\r\n",
        "print('tensor device           : ', x_data.device)"
      ],
      "execution_count": 8,
      "outputs": [
        {
          "output_type": "stream",
          "text": [
            "tensor shape:              torch.Size([2, 2])\n",
            "tensor data type (dtype):  torch.int64\n",
            "tensor device           :  cpu\n"
          ],
          "name": "stdout"
        }
      ]
    },
    {
      "cell_type": "code",
      "metadata": {
        "id": "m1hmROMf7ncQ",
        "colab": {
          "base_uri": "https://localhost:8080/"
        },
        "outputId": "14233193-9204-42ab-a7b3-a379d2c9c677"
      },
      "source": [
        "if torch.cuda.is_available():\r\n",
        "  x_data_random = x_data_random.to('cuda')\r\n",
        "\r\n",
        "print('tensor device           : ', x_data_random.device)"
      ],
      "execution_count": 9,
      "outputs": [
        {
          "output_type": "stream",
          "text": [
            "tensor device           :  cpu\n"
          ],
          "name": "stdout"
        }
      ]
    },
    {
      "cell_type": "markdown",
      "metadata": {
        "id": "upVbh6LOpcXU"
      },
      "source": [
        "## Obtendo o *dataset*\r\n",
        "\r\n",
        "Para exemplificar o uso do PyTorch na criação de redes neurais vamos retoma o exemplo do dataset de dígitos escritos à mão."
      ]
    },
    {
      "cell_type": "code",
      "metadata": {
        "id": "y0NpmKYGlnth"
      },
      "source": [
        "from sklearn.datasets import load_digits\r\n",
        "import pandas as pd"
      ],
      "execution_count": 10,
      "outputs": []
    },
    {
      "cell_type": "code",
      "metadata": {
        "id": "ccwZbCX8Ng-Y"
      },
      "source": [
        "data = load_digits()"
      ],
      "execution_count": 11,
      "outputs": []
    },
    {
      "cell_type": "code",
      "metadata": {
        "id": "a3N8BtJ93zDK"
      },
      "source": [
        "X, y = data['data'], data['target']"
      ],
      "execution_count": 12,
      "outputs": []
    },
    {
      "cell_type": "code",
      "metadata": {
        "colab": {
          "base_uri": "https://localhost:8080/",
          "height": 228
        },
        "id": "BPFW5aI4E-Ye",
        "outputId": "b429cd5b-cc63-4762-8be0-771ea99bf63a"
      },
      "source": [
        "import matplotlib.pyplot as plt\r\n",
        "\r\n",
        "def plot_digit(digit):\r\n",
        "  plt.figure(1, figsize=(3, 3))\r\n",
        "  plt.imshow(digit.reshape(8,8), cmap=plt.cm.gray_r, interpolation='nearest')\r\n",
        "  plt.show()"
      ],
      "execution_count": 28,
      "outputs": [
        {
          "output_type": "display_data",
          "data": {
            "image/png": "[encoded data removed]",
            "text/plain": [
              "<Figure size 216x216 with 1 Axes>"
            ]
          },
          "metadata": {
            "tags": [],
            "needs_background": "light"
          }
        },
        {
          "output_type": "stream",
          "text": [
            "label: 4\n"
          ],
          "name": "stdout"
        }
      ]
    },
    {
      "cell_type": "code",
      "metadata": {
        "colab": {
          "base_uri": "https://localhost:8080/",
          "height": 228
        },
        "id": "QquViXz6lqUM",
        "outputId": "6b3edc98-0a19-4108-8d46-8e92081025ee"
      },
      "source": [
        "plot_digit(X[100])\r\n",
        "print('label:', y[100])"
      ],
      "execution_count": 29,
      "outputs": [
        {
          "output_type": "display_data",
          "data": {
            "image/png": "[encoded data removed]",
            "text/plain": [
              "<Figure size 216x216 with 1 Axes>"
            ]
          },
          "metadata": {
            "tags": [],
            "needs_background": "light"
          }
        },
        {
          "output_type": "stream",
          "text": [
            "label: 4\n"
          ],
          "name": "stdout"
        }
      ]
    },
    {
      "cell_type": "markdown",
      "metadata": {
        "id": "v4RiXZbPkm8J"
      },
      "source": [
        "Para treinarmos um modelo com classificação multi-classe é importante garantir que todas as classes sejam representadas na mesma proporção."
      ]
    },
    {
      "cell_type": "code",
      "metadata": {
        "colab": {
          "base_uri": "https://localhost:8080/"
        },
        "id": "HKh-Uzt76Wiu",
        "outputId": "d927b218-015d-4993-ebea-b4b546063d4f"
      },
      "source": [
        "for value in set(y):\r\n",
        "  print(value, ':', list(y).count(value))"
      ],
      "execution_count": 14,
      "outputs": [
        {
          "output_type": "stream",
          "text": [
            "0 : 178\n",
            "1 : 182\n",
            "2 : 177\n",
            "3 : 183\n",
            "4 : 181\n",
            "5 : 182\n",
            "6 : 181\n",
            "7 : 179\n",
            "8 : 174\n",
            "9 : 180\n"
          ],
          "name": "stdout"
        }
      ]
    },
    {
      "cell_type": "markdown",
      "metadata": {
        "id": "KUEtV94bk0Kh"
      },
      "source": [
        "Como a ocorrência é cada classe é um pouco diferente, podemos realizar uma *undersampling* das classes maiores e deixar todas com a mesma contagem de exemplos."
      ]
    },
    {
      "cell_type": "code",
      "metadata": {
        "colab": {
          "base_uri": "https://localhost:8080/"
        },
        "id": "u703L3gM4hrH",
        "outputId": "4dfbcf66-455e-47c8-fa62-9fe2de16b53f"
      },
      "source": [
        "from imblearn.under_sampling import RandomUnderSampler\r\n",
        "\r\n",
        "rus = RandomUnderSampler()\r\n",
        "\r\n",
        "X_rus, y_rus = rus.fit_resample(X, y)"
      ],
      "execution_count": 15,
      "outputs": [
        {
          "output_type": "stream",
          "text": [
            "/usr/local/lib/python3.7/dist-packages/sklearn/externals/six.py:31: FutureWarning: The module is deprecated in version 0.21 and will be removed in version 0.23 since we've dropped support for Python 2.7. Please rely on the official version of six (https://pypi.org/project/six/).\n",
            "  \"(https://pypi.org/project/six/).\", FutureWarning)\n",
            "/usr/local/lib/python3.7/dist-packages/sklearn/utils/deprecation.py:144: FutureWarning: The sklearn.neighbors.base module is  deprecated in version 0.22 and will be removed in version 0.24. The corresponding classes / functions should instead be imported from sklearn.neighbors. Anything that cannot be imported from sklearn.neighbors is now part of the private API.\n",
            "  warnings.warn(message, FutureWarning)\n",
            "/usr/local/lib/python3.7/dist-packages/sklearn/utils/deprecation.py:87: FutureWarning: Function safe_indexing is deprecated; safe_indexing is deprecated in version 0.22 and will be removed in version 0.24.\n",
            "  warnings.warn(msg, category=FutureWarning)\n"
          ],
          "name": "stderr"
        }
      ]
    },
    {
      "cell_type": "code",
      "metadata": {
        "colab": {
          "base_uri": "https://localhost:8080/"
        },
        "id": "dtxag1ebNn_X",
        "outputId": "f5166fdf-00ec-410c-c7a3-0610f964f058"
      },
      "source": [
        "for value in set(y_rus):\r\n",
        "  print(value, ':', list(y_rus).count(value))"
      ],
      "execution_count": 16,
      "outputs": [
        {
          "output_type": "stream",
          "text": [
            "0 : 174\n",
            "1 : 174\n",
            "2 : 174\n",
            "3 : 174\n",
            "4 : 174\n",
            "5 : 174\n",
            "6 : 174\n",
            "7 : 174\n",
            "8 : 174\n",
            "9 : 174\n"
          ],
          "name": "stdout"
        }
      ]
    },
    {
      "cell_type": "markdown",
      "metadata": {
        "id": "gQNfbMG0lBGG"
      },
      "source": [
        "Agora vamos segmentar nosso *dataset* em uma fração de treino e outra de teste (ou validação)."
      ]
    },
    {
      "cell_type": "code",
      "metadata": {
        "id": "bUEfIhx75Qu5"
      },
      "source": [
        "from sklearn.model_selection import train_test_split\r\n",
        "\r\n",
        "X_train, X_test, y_train, y_test = train_test_split(X_rus, y_rus)"
      ],
      "execution_count": 17,
      "outputs": []
    },
    {
      "cell_type": "markdown",
      "metadata": {
        "id": "Z6gqMU-dlIcL"
      },
      "source": [
        "Quando trabalhamos com redes neurais é uma boa prática se realizar o ajuste dos valores de entrada para estes estejam em um mesmo intervalo e (preferencialmente) entre 0 e 1 ou -1 e 1. Dados com amplitudes maiores podem dificultar o processo de amprendizagem. \r\n",
        "\r\n",
        "**Nota:** o processo de ajuste de escala e / ou normalização deve ser realizado APÓS a separação dos dados de treino dos dados de teste."
      ]
    },
    {
      "cell_type": "code",
      "metadata": {
        "id": "Gfg9C1UF5p8T"
      },
      "source": [
        "from sklearn.preprocessing import StandardScaler\r\n",
        "\r\n",
        "scaler = StandardScaler()\r\n",
        "scaler.fit(X_train)\r\n",
        "\r\n",
        "X_train_scaled = scaler.transform(X_train)\r\n",
        "X_test_scaled  = scaler.transform(X_test)"
      ],
      "execution_count": 18,
      "outputs": []
    },
    {
      "cell_type": "code",
      "metadata": {
        "id": "HzAjviyqN91t",
        "colab": {
          "base_uri": "https://localhost:8080/"
        },
        "outputId": "ab9d561f-dfb9-41f2-fef8-afb18ec2e47d"
      },
      "source": [
        "X_train"
      ],
      "execution_count": 19,
      "outputs": [
        {
          "output_type": "execute_result",
          "data": {
            "text/plain": [
              "array([[ 0.,  0.,  1., ...,  6.,  0.,  0.],\n",
              "       [ 0.,  0.,  3., ..., 11.,  1.,  0.],\n",
              "       [ 0.,  1.,  7., ...,  7.,  0.,  0.],\n",
              "       ...,\n",
              "       [ 0.,  0.,  7., ..., 16.,  9.,  0.],\n",
              "       [ 0.,  0.,  3., ...,  8.,  0.,  0.],\n",
              "       [ 0.,  0., 10., ...,  0.,  0.,  0.]])"
            ]
          },
          "metadata": {
            "tags": []
          },
          "execution_count": 19
        }
      ]
    },
    {
      "cell_type": "code",
      "metadata": {
        "id": "krk2rwPON_mJ",
        "colab": {
          "base_uri": "https://localhost:8080/"
        },
        "outputId": "a6746243-6605-4a40-c0da-9df066735045"
      },
      "source": [
        "X_train_scaled"
      ],
      "execution_count": 20,
      "outputs": [
        {
          "output_type": "execute_result",
          "data": {
            "text/plain": [
              "array([[ 0.        , -0.34285308, -0.89558449, ..., -0.17181417,\n",
              "        -0.52305887, -0.20015502],\n",
              "       [ 0.        , -0.34285308, -0.47720691, ...,  0.6768516 ,\n",
              "        -0.28555302, -0.20015502],\n",
              "       [ 0.        ,  0.78132598,  0.35954824, ..., -0.00208102,\n",
              "        -0.52305887, -0.20015502],\n",
              "       ...,\n",
              "       [ 0.        , -0.34285308,  0.35954824, ...,  1.52551737,\n",
              "         1.61449383, -0.20015502],\n",
              "       [ 0.        , -0.34285308, -0.47720691, ...,  0.16765213,\n",
              "        -0.52305887, -0.20015502],\n",
              "       [ 0.        , -0.34285308,  0.9871146 , ..., -1.1902131 ,\n",
              "        -0.52305887, -0.20015502]])"
            ]
          },
          "metadata": {
            "tags": []
          },
          "execution_count": 20
        }
      ]
    },
    {
      "cell_type": "markdown",
      "metadata": {
        "id": "VEynj80dtSTD"
      },
      "source": [
        "## Criando uma rede neural com o PyTorch\r\n",
        "\r\n",
        "Agora podemos criar uma rede neural usando como base a classe `torch.nn.Module`. Para isso definimos cada camada em um atributo de classe no método construtor (`__init__`), para serem iniciadas quando esta forma intanciada, e depois definimos as conexões entre elas no método `forward`."
      ]
    },
    {
      "cell_type": "code",
      "metadata": {
        "id": "-KwfWOXrtllc"
      },
      "source": [
        "import torch.nn as nn\r\n",
        "import torch.nn.functional as F\r\n",
        "import torch.optim as optim\r\n",
        "\r\n",
        "class Net(nn.Module):\r\n",
        "\r\n",
        "    def __init__(self):\r\n",
        "      super(Net, self).__init__()\r\n",
        "      self.fc1 = nn.Linear(64, 32)\r\n",
        "      self.fc2 = nn.Linear(32, 10)\r\n",
        "\r\n",
        "    def forward(self, x):\r\n",
        "      x = self.fc1(x)\r\n",
        "      x = F.relu(x)\r\n",
        "      x = self.fc2(x)\r\n",
        "      return F.softmax(x)\r\n",
        "\r\n",
        "model = Net()\r\n",
        "criterion = nn.CrossEntropyLoss()\r\n",
        "optimizer = optim.SGD(model.parameters(), lr=0.01)"
      ],
      "execution_count": 21,
      "outputs": []
    },
    {
      "cell_type": "markdown",
      "metadata": {
        "id": "Ca087Z1tmiM0"
      },
      "source": [
        "Agora definimos os nossos ciclos de treinamento, chamados \"épocas\" (`epochs`). Cada época consiste em uma leitura completa do *dataset* e inclui o ajuste dos pesos pelo nosso otimizador. É possível também se dividir uma época em passos (*steps*), onde os pesos serão ajustados com base em segmentos do *dataset* denominados *mini-batches*."
      ]
    },
    {
      "cell_type": "code",
      "metadata": {
        "colab": {
          "base_uri": "https://localhost:8080/",
          "height": 335
        },
        "id": "pRnn5H_eue5J",
        "outputId": "3914aed9-09f8-4a80-80f4-7e0486e390f7"
      },
      "source": [
        "loss_history = []\r\n",
        "\r\n",
        "for epoch in range(1000):\r\n",
        "\r\n",
        "    optimizer.zero_grad()\r\n",
        "\r\n",
        "    inputs = torch.from_numpy(X_train_scaled).float()\r\n",
        "    labels = torch.from_numpy(y_train)\r\n",
        "\r\n",
        "    outputs = model(inputs)\r\n",
        "    loss = criterion(outputs, labels)\r\n",
        "    loss.backward()\r\n",
        "\r\n",
        "    optimizer.step()\r\n",
        "\r\n",
        "    loss_history.append(loss.item())\r\n",
        "\r\n",
        "plt.plot(loss_history)"
      ],
      "execution_count": 22,
      "outputs": [
        {
          "output_type": "stream",
          "text": [
            "/usr/local/lib/python3.7/dist-packages/ipykernel_launcher.py:16: UserWarning: Implicit dimension choice for softmax has been deprecated. Change the call to include dim=X as an argument.\n",
            "  app.launch_new_instance()\n"
          ],
          "name": "stderr"
        },
        {
          "output_type": "execute_result",
          "data": {
            "text/plain": [
              "[<matplotlib.lines.Line2D at 0x7f2650c71dd0>]"
            ]
          },
          "metadata": {
            "tags": []
          },
          "execution_count": 22
        },
        {
          "output_type": "display_data",
          "data": {
            "image/png": "[encoded data removed]",
            "text/plain": [
              "<Figure size 432x288 with 1 Axes>"
            ]
          },
          "metadata": {
            "tags": [],
            "needs_background": "light"
          }
        }
      ]
    },
    {
      "cell_type": "markdown",
      "metadata": {
        "id": "xutMP6M5vHXx"
      },
      "source": [
        "Agora podemos avaliar o nosso modelo com base nos dados de teste. Primeiro vamos avaliar a acurácia \"global\" do modelo usando a função `accuracy_score` do módulo `sklearn.metrics`."
      ]
    },
    {
      "cell_type": "code",
      "metadata": {
        "colab": {
          "base_uri": "https://localhost:8080/"
        },
        "id": "g2wQ7aU24Aoz",
        "outputId": "bcb0b40e-0cc9-481a-94dc-7b12368fd557"
      },
      "source": [
        "from sklearn.metrics import accuracy_score\r\n",
        "\r\n",
        "with torch.no_grad():\r\n",
        "\r\n",
        "  inputs = torch.from_numpy(X_test_scaled).float()\r\n",
        "  outputs = model(inputs) \r\n",
        "  y_pred  = np.argmax(outputs.data.numpy(), axis=1)\r\n",
        "\r\n",
        "accuracy_score(y_test, y_pred)"
      ],
      "execution_count": 23,
      "outputs": [
        {
          "output_type": "stream",
          "text": [
            "/usr/local/lib/python3.7/dist-packages/ipykernel_launcher.py:16: UserWarning: Implicit dimension choice for softmax has been deprecated. Change the call to include dim=X as an argument.\n",
            "  app.launch_new_instance()\n"
          ],
          "name": "stderr"
        },
        {
          "output_type": "execute_result",
          "data": {
            "text/plain": [
              "0.2942528735632184"
            ]
          },
          "metadata": {
            "tags": []
          },
          "execution_count": 23
        }
      ]
    },
    {
      "cell_type": "markdown",
      "metadata": {
        "id": "a_bIJmYKvVkj"
      },
      "source": [
        "Agora vamos criar uma \"matriz de confusão\" usando a função `confusion_matrix` do mesmo módulo."
      ]
    },
    {
      "cell_type": "code",
      "metadata": {
        "colab": {
          "base_uri": "https://localhost:8080/"
        },
        "id": "wanq0EY0kMcY",
        "outputId": "4b204abe-c53d-49f2-b3f1-32860141a285"
      },
      "source": [
        "from sklearn.metrics import confusion_matrix\r\n",
        "\r\n",
        "cm = confusion_matrix(y_test, y_pred)\r\n",
        "cm"
      ],
      "execution_count": 24,
      "outputs": [
        {
          "output_type": "execute_result",
          "data": {
            "text/plain": [
              "array([[ 7,  0,  2,  0,  0,  0,  4,  4, 17, 14],\n",
              "       [ 1,  0, 16,  0,  0,  0,  0,  0, 33,  0],\n",
              "       [ 0,  0, 29,  0,  0,  0,  0,  0,  2,  0],\n",
              "       [ 0,  0, 33,  0,  0,  0,  0,  1,  8,  4],\n",
              "       [ 1,  0,  0,  0, 18,  0,  0,  2, 21,  0],\n",
              "       [ 1,  0, 21,  0,  3,  0,  5,  0,  3, 11],\n",
              "       [ 0,  0, 18,  0,  0,  0, 16,  0,  6,  0],\n",
              "       [ 0,  0,  3,  0,  3,  0,  0, 15, 34,  0],\n",
              "       [ 0,  0,  5,  0,  0,  0,  0,  0, 27,  1],\n",
              "       [ 0,  0, 10,  0,  0,  0,  0,  0, 20, 16]])"
            ]
          },
          "metadata": {
            "tags": []
          },
          "execution_count": 24
        }
      ]
    },
    {
      "cell_type": "markdown",
      "metadata": {
        "id": "AcZn-CL7vctz"
      },
      "source": [
        "Por fim, vamos utilizar o `classification_report` para entender melhor qual a precisão e o *recall* do nosso modelo para cada classe. Estas informações ficam implícitas na matriz de confusão, mas sempre é bom ter elas de uma forma mais direta."
      ]
    },
    {
      "cell_type": "code",
      "metadata": {
        "colab": {
          "base_uri": "https://localhost:8080/"
        },
        "id": "zK-ugCbOuF3s",
        "outputId": "5736250f-e6cd-443f-fa8e-ee1568e99a0f"
      },
      "source": [
        "from sklearn.metrics import classification_report\r\n",
        "\r\n",
        "print(classification_report(y_test, y_pred, digits=4))"
      ],
      "execution_count": 25,
      "outputs": [
        {
          "output_type": "stream",
          "text": [
            "              precision    recall  f1-score   support\n",
            "\n",
            "           0     0.7000    0.1458    0.2414        48\n",
            "           1     0.0000    0.0000    0.0000        50\n",
            "           2     0.2117    0.9355    0.3452        31\n",
            "           3     0.0000    0.0000    0.0000        46\n",
            "           4     0.7500    0.4286    0.5455        42\n",
            "           5     0.0000    0.0000    0.0000        44\n",
            "           6     0.6400    0.4000    0.4923        40\n",
            "           7     0.6818    0.2727    0.3896        55\n",
            "           8     0.1579    0.8182    0.2647        33\n",
            "           9     0.3478    0.3478    0.3478        46\n",
            "\n",
            "    accuracy                         0.2943       435\n",
            "   macro avg     0.3489    0.3349    0.2627       435\n",
            "weighted avg     0.3586    0.2943    0.2553       435\n",
            "\n"
          ],
          "name": "stdout"
        },
        {
          "output_type": "stream",
          "text": [
            "/usr/local/lib/python3.7/dist-packages/sklearn/metrics/_classification.py:1272: UndefinedMetricWarning: Precision and F-score are ill-defined and being set to 0.0 in labels with no predicted samples. Use `zero_division` parameter to control this behavior.\n",
            "  _warn_prf(average, modifier, msg_start, len(result))\n"
          ],
          "name": "stderr"
        }
      ]
    },
    {
      "cell_type": "code",
      "metadata": {
        "colab": {
          "base_uri": "https://localhost:8080/",
          "height": 298
        },
        "id": "YntQVGxTwV5o",
        "outputId": "68ee10d0-4d15-4c9f-9e86-948712f1e986"
      },
      "source": [
        "example = 210\r\n",
        "\r\n",
        "X_test_example = X_test[example]\r\n",
        "plot_digit(X_test_example)\r\n",
        "\r\n",
        "X_test_example_tensor = torch.from_numpy(X_test_example).float()\r\n",
        "output = model(X_test_example_tensor)\r\n",
        "y_test_example = y_test[example]\r\n",
        "y_pred_example = np.argmax(output.data.numpy())\r\n",
        "\r\n",
        "print('real label:     ', y_test_example)\r\n",
        "print('predicted label:', y_pred_example)"
      ],
      "execution_count": 26,
      "outputs": [
        {
          "output_type": "display_data",
          "data": {
            "image/png": "[encoded data removed]",
            "text/plain": [
              "<Figure size 216x216 with 1 Axes>"
            ]
          },
          "metadata": {
            "tags": [],
            "needs_background": "light"
          }
        },
        {
          "output_type": "stream",
          "text": [
            "real label:      4\n",
            "predicted label: 8\n"
          ],
          "name": "stdout"
        },
        {
          "output_type": "stream",
          "text": [
            "/usr/local/lib/python3.7/dist-packages/ipykernel_launcher.py:16: UserWarning: Implicit dimension choice for softmax has been deprecated. Change the call to include dim=X as an argument.\n",
            "  app.launch_new_instance()\n"
          ],
          "name": "stderr"
        }
      ]
    }
  ]
}