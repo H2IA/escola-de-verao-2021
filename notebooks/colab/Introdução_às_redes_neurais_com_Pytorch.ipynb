{
  "nbformat": 4,
  "nbformat_minor": 0,
  "metadata": {
    "colab": {
      "name": "Introdução às redes neurais com Pytorch.ipynb",
      "provenance": [],
      "collapsed_sections": [],
      "authorship_tag": "ABX9TyMPX/8ohJ5nK3ItHW0bLadZ",
      "include_colab_link": true
    },
    "kernelspec": {
      "name": "python3",
      "display_name": "Python 3"
    }
  },
  "cells": [
    {
      "cell_type": "markdown",
      "metadata": {
        "id": "view-in-github",
        "colab_type": "text"
      },
      "source": [
        "<a href=\"https://colab.research.google.com/github/H2IA/escola-de-verao-2021/blob/main/Introdu%C3%A7%C3%A3o_%C3%A0s_redes_neurais_com_Pytorch.ipynb\" target=\"_parent\"><img src=\"https://colab.research.google.com/assets/colab-badge.svg\" alt=\"Open In Colab\"/></a>"
      ]
    },
    {
      "cell_type": "markdown",
      "metadata": {
        "id": "sHWLzCQUoInO"
      },
      "source": [
        "# Introdução às redes neurais com PyTorch\r\n",
        "\r\n",
        "O PyTorch é um *framework* para *deep learning* desenvolvido para linguagem Python baseado no Torch, originalmente implementando em linguagme Lua. De modo similar do TensorFlow, o PyTorch permite a criação de redes neurais profundas tanto de forma **declarativa** (útil para usuários iniciantes) quanto **imperativa** (útil para usuários mais avançados)."
      ]
    },
    {
      "cell_type": "markdown",
      "metadata": {
        "id": "WOTv6Is68uUy"
      },
      "source": [
        "## Tensores\r\n",
        "\r\n",
        "As operações realizadas pelo PyTorch devem utilizar a classe `torch.tensor` como base, que fornece uma interface similar à classe `numpy.array`. É possível criar um novo objeto de tensor a partir de listas em *arrays* do `numpy` de forma simples:"
      ]
    },
    {
      "cell_type": "code",
      "metadata": {
        "id": "z4faxgkaszwS"
      },
      "source": [
        "import torch\r\n",
        "import numpy as np"
      ],
      "execution_count": 1,
      "outputs": []
    },
    {
      "cell_type": "code",
      "metadata": {
        "colab": {
          "base_uri": "https://localhost:8080/"
        },
        "id": "aCdGUth47n4J",
        "outputId": "f2d44847-6e53-4b3d-e8e3-7b597b103f71"
      },
      "source": [
        "data = [[1,2], [3,4]]\r\n",
        "x_data = torch.tensor(data)\r\n",
        "x_data"
      ],
      "execution_count": 2,
      "outputs": [
        {
          "output_type": "execute_result",
          "data": {
            "text/plain": [
              "tensor([[1, 2],\n",
              "        [3, 4]])"
            ]
          },
          "metadata": {
            "tags": []
          },
          "execution_count": 2
        }
      ]
    },
    {
      "cell_type": "code",
      "metadata": {
        "colab": {
          "base_uri": "https://localhost:8080/"
        },
        "id": "uzSGGR8H7n1J",
        "outputId": "808cb678-cdb2-40f1-9608-7d5ee4497875"
      },
      "source": [
        "data_array = np.array(data)\r\n",
        "x_data = torch.from_numpy(data_array)\r\n",
        "x_data"
      ],
      "execution_count": 3,
      "outputs": [
        {
          "output_type": "execute_result",
          "data": {
            "text/plain": [
              "tensor([[1, 2],\n",
              "        [3, 4]])"
            ]
          },
          "metadata": {
            "tags": []
          },
          "execution_count": 3
        }
      ]
    },
    {
      "cell_type": "markdown",
      "metadata": {
        "id": "OhIJp9-xAHKP"
      },
      "source": [
        "*Slicing* de tensores usando a sintaxe do numpy."
      ]
    },
    {
      "cell_type": "code",
      "metadata": {
        "id": "5Vu74RNt9o-l",
        "colab": {
          "base_uri": "https://localhost:8080/"
        },
        "outputId": "884b6789-5e6b-48b0-9808-970f38e879ea"
      },
      "source": [
        "data_array[:, 1] "
      ],
      "execution_count": 4,
      "outputs": [
        {
          "output_type": "execute_result",
          "data": {
            "text/plain": [
              "array([2, 4])"
            ]
          },
          "metadata": {
            "tags": []
          },
          "execution_count": 4
        }
      ]
    },
    {
      "cell_type": "markdown",
      "metadata": {
        "id": "RWqDOuTkAKev"
      },
      "source": [
        "Operações com tensores são \"*element-wise*\"\r\n"
      ]
    },
    {
      "cell_type": "code",
      "metadata": {
        "id": "CP12LquB9swe",
        "colab": {
          "base_uri": "https://localhost:8080/"
        },
        "outputId": "8ec8706c-c68d-438c-db73-ec430f257992"
      },
      "source": [
        "data_array * 1000"
      ],
      "execution_count": 5,
      "outputs": [
        {
          "output_type": "execute_result",
          "data": {
            "text/plain": [
              "array([[1000, 2000],\n",
              "       [3000, 4000]])"
            ]
          },
          "metadata": {
            "tags": []
          },
          "execution_count": 5
        }
      ]
    },
    {
      "cell_type": "markdown",
      "metadata": {
        "id": "Jxrr9SdH_cv4"
      },
      "source": [
        "Também podemos criar tensores com \"forma\" (*shape*) pré-definida contendo valores fixos (ex: 0 ou 1) ou aleatórios."
      ]
    },
    {
      "cell_type": "code",
      "metadata": {
        "id": "f0t5GIr67nyQ",
        "colab": {
          "base_uri": "https://localhost:8080/"
        },
        "outputId": "6601ccf7-42f9-49a1-bff0-9eb637177452"
      },
      "source": [
        "shape = (3,2,1)\r\n",
        "\r\n",
        "x_data_random = torch.rand(shape)\r\n",
        "print('random:', x_data_random)\r\n",
        "\r\n",
        "x_data_ones   = torch.ones(shape)\r\n",
        "print('ones:', x_data_ones)\r\n",
        "\r\n",
        "x_data_zeros  = torch.zeros(shape)\r\n",
        "print('zeros:', x_data_zeros)"
      ],
      "execution_count": 6,
      "outputs": [
        {
          "output_type": "stream",
          "text": [
            "random: tensor([[[0.5164],\n",
            "         [0.9777]],\n",
            "\n",
            "        [[0.9778],\n",
            "         [0.8959]],\n",
            "\n",
            "        [[0.0886],\n",
            "         [0.5184]]])\n",
            "ones: tensor([[[1.],\n",
            "         [1.]],\n",
            "\n",
            "        [[1.],\n",
            "         [1.]],\n",
            "\n",
            "        [[1.],\n",
            "         [1.]]])\n",
            "zeros: tensor([[[0.],\n",
            "         [0.]],\n",
            "\n",
            "        [[0.],\n",
            "         [0.]],\n",
            "\n",
            "        [[0.],\n",
            "         [0.]]])\n"
          ],
          "name": "stdout"
        }
      ]
    },
    {
      "cell_type": "markdown",
      "metadata": {
        "id": "MaRFi2nT_t5A"
      },
      "source": [
        "Um grande diferencial dos tensores do `pytorch` em relação aos arrays do `numpy` é a sua afinidade com unidades de processamento (ex: CPU, GPU)."
      ]
    },
    {
      "cell_type": "code",
      "metadata": {
        "id": "y6iwlz7h7nnB",
        "colab": {
          "base_uri": "https://localhost:8080/"
        },
        "outputId": "0ff981dd-aafa-4557-bf50-f58e39251a1c"
      },
      "source": [
        "print('tensor shape:             ', x_data.shape)\r\n",
        "print('tensor data type (dtype): ', x_data.dtype)\r\n",
        "print('tensor device           : ', x_data.device)"
      ],
      "execution_count": 7,
      "outputs": [
        {
          "output_type": "stream",
          "text": [
            "tensor shape:              torch.Size([2, 2])\n",
            "tensor data type (dtype):  torch.int64\n",
            "tensor device           :  cpu\n"
          ],
          "name": "stdout"
        }
      ]
    },
    {
      "cell_type": "code",
      "metadata": {
        "id": "m1hmROMf7ncQ",
        "colab": {
          "base_uri": "https://localhost:8080/"
        },
        "outputId": "88eb9b0a-265d-4b1c-807f-515add70705c"
      },
      "source": [
        "if torch.cuda.is_available():\r\n",
        "  x_data_random = x_data_random.to('cuda')\r\n",
        "\r\n",
        "print('tensor device           : ', x_data_random.device)"
      ],
      "execution_count": 8,
      "outputs": [
        {
          "output_type": "stream",
          "text": [
            "tensor device           :  cpu\n"
          ],
          "name": "stdout"
        }
      ]
    },
    {
      "cell_type": "markdown",
      "metadata": {
        "id": "upVbh6LOpcXU"
      },
      "source": [
        "## Obtendo o *dataset*\r\n",
        "\r\n",
        "Para exemplificar o uso do PyTorch na criação de redes neurais vamos retoma o exemplo do dataset de dígitos escritos à mão."
      ]
    },
    {
      "cell_type": "code",
      "metadata": {
        "id": "y0NpmKYGlnth"
      },
      "source": [
        "from sklearn.datasets import load_digits\r\n",
        "import pandas as pd"
      ],
      "execution_count": 9,
      "outputs": []
    },
    {
      "cell_type": "code",
      "metadata": {
        "id": "ccwZbCX8Ng-Y"
      },
      "source": [
        "data = load_digits()"
      ],
      "execution_count": 10,
      "outputs": []
    },
    {
      "cell_type": "code",
      "metadata": {
        "id": "a3N8BtJ93zDK"
      },
      "source": [
        "X, y = data['data'], data['target']"
      ],
      "execution_count": 11,
      "outputs": []
    },
    {
      "cell_type": "code",
      "metadata": {
        "id": "BPFW5aI4E-Ye"
      },
      "source": [
        "import matplotlib.pyplot as plt\r\n",
        "\r\n",
        "def plot_digit(digit):\r\n",
        "  plt.figure(1, figsize=(3, 3))\r\n",
        "  plt.imshow(digit.reshape(8,8), cmap=plt.cm.gray_r, interpolation='nearest')\r\n",
        "  plt.show()"
      ],
      "execution_count": 12,
      "outputs": []
    },
    {
      "cell_type": "code",
      "metadata": {
        "colab": {
          "base_uri": "https://localhost:8080/",
          "height": 228
        },
        "id": "QquViXz6lqUM",
        "outputId": "80a9504f-8dc1-4d33-c692-e194b14e7064"
      },
      "source": [
        "plot_digit(X[100])\r\n",
        "print('label:', y[100])"
      ],
      "execution_count": 13,
      "outputs": [
        {
          "output_type": "display_data",
          "data": {
            "image/png": "[encoded data removed]",
            "text/plain": [
              "<Figure size 216x216 with 1 Axes>"
            ]
          },
          "metadata": {
            "tags": [],
            "needs_background": "light"
          }
        },
        {
          "output_type": "stream",
          "text": [
            "label: 4\n"
          ],
          "name": "stdout"
        }
      ]
    },
    {
      "cell_type": "markdown",
      "metadata": {
        "id": "v4RiXZbPkm8J"
      },
      "source": [
        "Para treinarmos um modelo com classificação multi-classe é importante garantir que todas as classes sejam representadas na mesma proporção."
      ]
    },
    {
      "cell_type": "code",
      "metadata": {
        "colab": {
          "base_uri": "https://localhost:8080/"
        },
        "id": "HKh-Uzt76Wiu",
        "outputId": "b5a1acb4-452b-4b71-9e28-997895dce0f7"
      },
      "source": [
        "for value in set(y):\r\n",
        "  print(value, ':', list(y).count(value))"
      ],
      "execution_count": 14,
      "outputs": [
        {
          "output_type": "stream",
          "text": [
            "0 : 178\n",
            "1 : 182\n",
            "2 : 177\n",
            "3 : 183\n",
            "4 : 181\n",
            "5 : 182\n",
            "6 : 181\n",
            "7 : 179\n",
            "8 : 174\n",
            "9 : 180\n"
          ],
          "name": "stdout"
        }
      ]
    },
    {
      "cell_type": "markdown",
      "metadata": {
        "id": "KUEtV94bk0Kh"
      },
      "source": [
        "Como a ocorrência é cada classe é um pouco diferente, podemos realizar uma *undersampling* das classes maiores e deixar todas com a mesma contagem de exemplos."
      ]
    },
    {
      "cell_type": "code",
      "metadata": {
        "colab": {
          "base_uri": "https://localhost:8080/"
        },
        "id": "u703L3gM4hrH",
        "outputId": "c448df92-dfc7-401f-a601-264bfc3c1eba"
      },
      "source": [
        "from imblearn.under_sampling import RandomUnderSampler\r\n",
        "\r\n",
        "rus = RandomUnderSampler()\r\n",
        "\r\n",
        "X_rus, y_rus = rus.fit_resample(X, y)"
      ],
      "execution_count": 15,
      "outputs": [
        {
          "output_type": "stream",
          "text": [
            "/usr/local/lib/python3.7/dist-packages/sklearn/externals/six.py:31: FutureWarning: The module is deprecated in version 0.21 and will be removed in version 0.23 since we've dropped support for Python 2.7. Please rely on the official version of six (https://pypi.org/project/six/).\n",
            "  \"(https://pypi.org/project/six/).\", FutureWarning)\n",
            "/usr/local/lib/python3.7/dist-packages/sklearn/utils/deprecation.py:144: FutureWarning: The sklearn.neighbors.base module is  deprecated in version 0.22 and will be removed in version 0.24. The corresponding classes / functions should instead be imported from sklearn.neighbors. Anything that cannot be imported from sklearn.neighbors is now part of the private API.\n",
            "  warnings.warn(message, FutureWarning)\n",
            "/usr/local/lib/python3.7/dist-packages/sklearn/utils/deprecation.py:87: FutureWarning: Function safe_indexing is deprecated; safe_indexing is deprecated in version 0.22 and will be removed in version 0.24.\n",
            "  warnings.warn(msg, category=FutureWarning)\n"
          ],
          "name": "stderr"
        }
      ]
    },
    {
      "cell_type": "code",
      "metadata": {
        "colab": {
          "base_uri": "https://localhost:8080/"
        },
        "id": "dtxag1ebNn_X",
        "outputId": "8518ddff-d244-41bd-9983-6987796a0421"
      },
      "source": [
        "for value in set(y_rus):\r\n",
        "  print(value, ':', list(y_rus).count(value))"
      ],
      "execution_count": 16,
      "outputs": [
        {
          "output_type": "stream",
          "text": [
            "0 : 174\n",
            "1 : 174\n",
            "2 : 174\n",
            "3 : 174\n",
            "4 : 174\n",
            "5 : 174\n",
            "6 : 174\n",
            "7 : 174\n",
            "8 : 174\n",
            "9 : 174\n"
          ],
          "name": "stdout"
        }
      ]
    },
    {
      "cell_type": "markdown",
      "metadata": {
        "id": "gQNfbMG0lBGG"
      },
      "source": [
        "Agora vamos segmentar nosso *dataset* em uma fração de treino e outra de teste (ou validação)."
      ]
    },
    {
      "cell_type": "code",
      "metadata": {
        "id": "bUEfIhx75Qu5"
      },
      "source": [
        "from sklearn.model_selection import train_test_split\r\n",
        "\r\n",
        "X_train, X_test, y_train, y_test = train_test_split(X_rus, y_rus)"
      ],
      "execution_count": 17,
      "outputs": []
    },
    {
      "cell_type": "markdown",
      "metadata": {
        "id": "Z6gqMU-dlIcL"
      },
      "source": [
        "Quando trabalhamos com redes neurais é uma boa prática se realizar o ajuste dos valores de entrada para estes estejam em um mesmo intervalo e (preferencialmente) entre 0 e 1 ou -1 e 1. Dados com amplitudes maiores podem dificultar o processo de amprendizagem. \r\n",
        "\r\n",
        "**Nota:** o processo de ajuste de escala e / ou normalização deve ser realizado APÓS a separação dos dados de treino dos dados de teste."
      ]
    },
    {
      "cell_type": "code",
      "metadata": {
        "id": "Gfg9C1UF5p8T"
      },
      "source": [
        "from sklearn.preprocessing import StandardScaler\r\n",
        "\r\n",
        "scaler = StandardScaler()\r\n",
        "scaler.fit(X_train)\r\n",
        "\r\n",
        "X_train_scaled = scaler.transform(X_train)\r\n",
        "X_test_scaled  = scaler.transform(X_test)"
      ],
      "execution_count": 18,
      "outputs": []
    },
    {
      "cell_type": "code",
      "metadata": {
        "id": "HzAjviyqN91t",
        "colab": {
          "base_uri": "https://localhost:8080/"
        },
        "outputId": "3ffdfcfe-8b79-4778-f1ed-7ebfb69aec34"
      },
      "source": [
        "X_train"
      ],
      "execution_count": 19,
      "outputs": [
        {
          "output_type": "execute_result",
          "data": {
            "text/plain": [
              "array([[ 0.,  0.,  2., ...,  3.,  0.,  0.],\n",
              "       [ 0.,  0.,  1., ..., 14.,  9.,  0.],\n",
              "       [ 0.,  0.,  0., ...,  0.,  0.,  0.],\n",
              "       ...,\n",
              "       [ 0.,  0., 10., ...,  0.,  0.,  0.],\n",
              "       [ 0.,  1., 11., ...,  8.,  0.,  0.],\n",
              "       [ 0.,  1., 11., ...,  8.,  1.,  0.]])"
            ]
          },
          "metadata": {
            "tags": []
          },
          "execution_count": 19
        }
      ]
    },
    {
      "cell_type": "code",
      "metadata": {
        "id": "krk2rwPON_mJ",
        "colab": {
          "base_uri": "https://localhost:8080/"
        },
        "outputId": "2be961be-3ae0-4bed-95ef-a2d70d84b25e"
      },
      "source": [
        "X_train_scaled"
      ],
      "execution_count": 20,
      "outputs": [
        {
          "output_type": "execute_result",
          "data": {
            "text/plain": [
              "array([[ 0.        , -0.32886482, -0.66734446, ..., -0.65995299,\n",
              "        -0.52103478, -0.20026919],\n",
              "       [ 0.        , -0.32886482, -0.87851917, ...,  1.1961648 ,\n",
              "         1.63982451, -0.20026919],\n",
              "       [ 0.        , -0.32886482, -1.08969389, ..., -1.16616694,\n",
              "        -0.52103478, -0.20026919],\n",
              "       ...,\n",
              "       [ 0.        , -0.32886482,  1.02205325, ..., -1.16616694,\n",
              "        -0.52103478, -0.20026919],\n",
              "       [ 0.        ,  0.77723978,  1.23322797, ...,  0.18373691,\n",
              "        -0.52103478, -0.20026919],\n",
              "       [ 0.        ,  0.77723978,  1.23322797, ...,  0.18373691,\n",
              "        -0.28093931, -0.20026919]])"
            ]
          },
          "metadata": {
            "tags": []
          },
          "execution_count": 20
        }
      ]
    },
    {
      "cell_type": "markdown",
      "metadata": {
        "id": "VEynj80dtSTD"
      },
      "source": [
        "## Criando uma rede neural com o PyTorch\r\n",
        "\r\n",
        "Agora podemos criar uma rede neural usando como base a classe `torch.nn.Module`. Para isso definimos cada camada em um atributo de classe no método construtor (`__init__`), para serem iniciadas quando esta forma intanciada, e depois definimos as conexões entre elas no método `forward`."
      ]
    },
    {
      "cell_type": "code",
      "metadata": {
        "id": "-KwfWOXrtllc"
      },
      "source": [
        "import torch.nn as nn\r\n",
        "import torch.nn.functional as F\r\n",
        "import torch.optim as optim\r\n",
        "\r\n",
        "class Net(nn.Module):\r\n",
        "\r\n",
        "    def __init__(self):\r\n",
        "      super(Net, self).__init__()\r\n",
        "      self.fc1 = nn.Linear(64, 32)\r\n",
        "      self.fc2 = nn.Linear(32, 10)\r\n",
        "\r\n",
        "    def forward(self, x):\r\n",
        "      x = self.fc1(x)\r\n",
        "      x = F.relu(x)\r\n",
        "      x = self.fc2(x)\r\n",
        "      return F.softmax(x)\r\n",
        "\r\n",
        "model = Net()\r\n",
        "criterion = nn.CrossEntropyLoss()\r\n",
        "optimizer = optim.SGD(model.parameters(), lr=0.1)"
      ],
      "execution_count": 21,
      "outputs": []
    },
    {
      "cell_type": "markdown",
      "metadata": {
        "id": "Ca087Z1tmiM0"
      },
      "source": [
        "Agora definimos os nossos ciclos de treinamento, chamados \"épocas\" (`epochs`). Cada época consiste em uma leitura completa do *dataset* e inclui o ajuste dos pesos pelo nosso otimizador. É possível também se dividir uma época em passos (*steps*), onde os pesos serão ajustados com base em segmentos do *dataset* denominados *mini-batches*."
      ]
    },
    {
      "cell_type": "code",
      "metadata": {
        "colab": {
          "base_uri": "https://localhost:8080/",
          "height": 335
        },
        "id": "pRnn5H_eue5J",
        "outputId": "0ffd5b45-9388-43ef-d9c1-cd2c348d0007"
      },
      "source": [
        "loss_history = []\r\n",
        "\r\n",
        "for epoch in range(1000):\r\n",
        "\r\n",
        "    optimizer.zero_grad()\r\n",
        "\r\n",
        "    inputs = torch.from_numpy(X_train_scaled).float()\r\n",
        "    labels = torch.from_numpy(y_train)\r\n",
        "\r\n",
        "    outputs = model(inputs)\r\n",
        "    loss = criterion(outputs, labels)\r\n",
        "    loss.backward()\r\n",
        "\r\n",
        "    optimizer.step()\r\n",
        "\r\n",
        "    loss_history.append(loss.item())\r\n",
        "\r\n",
        "plt.plot(loss_history)"
      ],
      "execution_count": 22,
      "outputs": [
        {
          "output_type": "stream",
          "text": [
            "/usr/local/lib/python3.7/dist-packages/ipykernel_launcher.py:16: UserWarning: Implicit dimension choice for softmax has been deprecated. Change the call to include dim=X as an argument.\n",
            "  app.launch_new_instance()\n"
          ],
          "name": "stderr"
        },
        {
          "output_type": "execute_result",
          "data": {
            "text/plain": [
              "[<matplotlib.lines.Line2D at 0x7f802f8664d0>]"
            ]
          },
          "metadata": {
            "tags": []
          },
          "execution_count": 22
        },
        {
          "output_type": "display_data",
          "data": {
            "image/png": "[encoded data removed]",
            "text/plain": [
              "<Figure size 432x288 with 1 Axes>"
            ]
          },
          "metadata": {
            "tags": [],
            "needs_background": "light"
          }
        }
      ]
    },
    {
      "cell_type": "markdown",
      "metadata": {
        "id": "xutMP6M5vHXx"
      },
      "source": [
        "Agora podemos avaliar o nosso modelo com base nos dados de teste. Primeiro vamos avaliar a acurácia \"global\" do modelo usando a função `accuracy_score` do módulo `sklearn.metrics`."
      ]
    },
    {
      "cell_type": "code",
      "metadata": {
        "colab": {
          "base_uri": "https://localhost:8080/"
        },
        "id": "g2wQ7aU24Aoz",
        "outputId": "cbc24013-8da5-4cd2-83f4-f08624dfad95"
      },
      "source": [
        "from sklearn.metrics import accuracy_score\r\n",
        "\r\n",
        "with torch.no_grad():\r\n",
        "\r\n",
        "  inputs = torch.from_numpy(X_test_scaled).float()\r\n",
        "  outputs = model(inputs) \r\n",
        "  y_pred  = np.argmax(outputs.data.numpy(), axis=1)\r\n",
        "\r\n",
        "accuracy_score(y_test, y_pred)"
      ],
      "execution_count": 23,
      "outputs": [
        {
          "output_type": "stream",
          "text": [
            "/usr/local/lib/python3.7/dist-packages/ipykernel_launcher.py:16: UserWarning: Implicit dimension choice for softmax has been deprecated. Change the call to include dim=X as an argument.\n",
            "  app.launch_new_instance()\n"
          ],
          "name": "stderr"
        },
        {
          "output_type": "execute_result",
          "data": {
            "text/plain": [
              "0.9448275862068966"
            ]
          },
          "metadata": {
            "tags": []
          },
          "execution_count": 23
        }
      ]
    },
    {
      "cell_type": "markdown",
      "metadata": {
        "id": "a_bIJmYKvVkj"
      },
      "source": [
        "Agora vamos criar uma \"matriz de confusão\" usando a função `confusion_matrix` do mesmo módulo."
      ]
    },
    {
      "cell_type": "code",
      "metadata": {
        "colab": {
          "base_uri": "https://localhost:8080/"
        },
        "id": "wanq0EY0kMcY",
        "outputId": "ad592140-af28-4e4a-d144-9399ea9c2844"
      },
      "source": [
        "from sklearn.metrics import confusion_matrix\r\n",
        "\r\n",
        "cm = confusion_matrix(y_test, y_pred)\r\n",
        "cm"
      ],
      "execution_count": 24,
      "outputs": [
        {
          "output_type": "execute_result",
          "data": {
            "text/plain": [
              "array([[52,  0,  0,  0,  0,  0,  1,  0,  0,  0],\n",
              "       [ 0, 38,  7,  0,  0,  0,  1,  0,  0,  7],\n",
              "       [ 0,  0, 38,  0,  0,  0,  0,  0,  0,  0],\n",
              "       [ 0,  0,  0, 40,  0,  0,  0,  0,  0,  0],\n",
              "       [ 0,  0,  0,  0, 47,  0,  0,  0,  0,  0],\n",
              "       [ 0,  0,  0,  0,  0, 42,  0,  0,  0,  0],\n",
              "       [ 2,  0,  0,  0,  0,  0, 34,  0,  0,  0],\n",
              "       [ 0,  0,  0,  0,  0,  0,  0, 52,  0,  0],\n",
              "       [ 0,  0,  0,  0,  0,  0,  0,  1, 35,  1],\n",
              "       [ 0,  0,  0,  0,  0,  1,  0,  0,  3, 33]])"
            ]
          },
          "metadata": {
            "tags": []
          },
          "execution_count": 24
        }
      ]
    },
    {
      "cell_type": "markdown",
      "metadata": {
        "id": "AcZn-CL7vctz"
      },
      "source": [
        "Por fim, vamos utilizar o `classification_report` para entender melhor qual a precisão e o *recall* do nosso modelo para cada classe. Estas informações ficam implícitas na matriz de confusão, mas sempre é bom ter elas de uma forma mais direta."
      ]
    },
    {
      "cell_type": "code",
      "metadata": {
        "colab": {
          "base_uri": "https://localhost:8080/"
        },
        "id": "zK-ugCbOuF3s",
        "outputId": "def41ccd-82e6-471d-f599-aa1cabdb1737"
      },
      "source": [
        "from sklearn.metrics import classification_report\r\n",
        "\r\n",
        "print(classification_report(y_test, y_pred, digits=4))"
      ],
      "execution_count": 25,
      "outputs": [
        {
          "output_type": "stream",
          "text": [
            "              precision    recall  f1-score   support\n",
            "\n",
            "           0     0.9630    0.9811    0.9720        53\n",
            "           1     1.0000    0.7170    0.8352        53\n",
            "           2     0.8444    1.0000    0.9157        38\n",
            "           3     1.0000    1.0000    1.0000        40\n",
            "           4     1.0000    1.0000    1.0000        47\n",
            "           5     0.9767    1.0000    0.9882        42\n",
            "           6     0.9444    0.9444    0.9444        36\n",
            "           7     0.9811    1.0000    0.9905        52\n",
            "           8     0.9211    0.9459    0.9333        37\n",
            "           9     0.8049    0.8919    0.8462        37\n",
            "\n",
            "    accuracy                         0.9448       435\n",
            "   macro avg     0.9436    0.9480    0.9425       435\n",
            "weighted avg     0.9495    0.9448    0.9435       435\n",
            "\n"
          ],
          "name": "stdout"
        }
      ]
    },
    {
      "cell_type": "code",
      "metadata": {
        "colab": {
          "base_uri": "https://localhost:8080/",
          "height": 298
        },
        "id": "YntQVGxTwV5o",
        "outputId": "4c28a235-f3e4-450c-8824-b5757c027828"
      },
      "source": [
        "example = 210\r\n",
        "\r\n",
        "X_test_example = X_test[example]\r\n",
        "plot_digit(X_test_example)\r\n",
        "\r\n",
        "X_test_example_tensor = torch.from_numpy(X_test_example).float()\r\n",
        "output = model(X_test_example_tensor)\r\n",
        "y_test_example = y_test[example]\r\n",
        "y_pred_example = np.argmax(output.data.numpy())\r\n",
        "\r\n",
        "print('real label:     ', y_test_example)\r\n",
        "print('predicted label:', y_pred_example)"
      ],
      "execution_count": 26,
      "outputs": [
        {
          "output_type": "display_data",
          "data": {
            "image/png": "[encoded data removed]",
            "text/plain": [
              "<Figure size 216x216 with 1 Axes>"
            ]
          },
          "metadata": {
            "tags": [],
            "needs_background": "light"
          }
        },
        {
          "output_type": "stream",
          "text": [
            "real label:      4\n",
            "predicted label: 4\n"
          ],
          "name": "stdout"
        },
        {
          "output_type": "stream",
          "text": [
            "/usr/local/lib/python3.7/dist-packages/ipykernel_launcher.py:16: UserWarning: Implicit dimension choice for softmax has been deprecated. Change the call to include dim=X as an argument.\n",
            "  app.launch_new_instance()\n"
          ],
          "name": "stderr"
        }
      ]
    }
  ]
}