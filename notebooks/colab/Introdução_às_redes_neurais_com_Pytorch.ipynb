{
  "nbformat": 4,
  "nbformat_minor": 0,
  "metadata": {
    "colab": {
      "name": "Introdução às redes neurais com Pytorch.ipynb",
      "provenance": [],
      "collapsed_sections": [],
      "authorship_tag": "ABX9TyOvgWYj+RRfF+lO6GA5lgXt",
      "include_colab_link": true
    },
    "kernelspec": {
      "name": "python3",
      "display_name": "Python 3"
    },
    "accelerator": "GPU"
  },
  "cells": [
    {
      "cell_type": "markdown",
      "metadata": {
        "id": "view-in-github",
        "colab_type": "text"
      },
      "source": [
        "<a href=\"https://colab.research.google.com/github/H2IA/escola-de-verao-2021/blob/main/Introdu%C3%A7%C3%A3o_%C3%A0s_redes_neurais_com_Pytorch.ipynb\" target=\"_parent\"><img src=\"https://colab.research.google.com/assets/colab-badge.svg\" alt=\"Open In Colab\"/></a>"
      ]
    },
    {
      "cell_type": "markdown",
      "metadata": {
        "id": "sHWLzCQUoInO"
      },
      "source": [
        "# Introdução às redes neurais com PyTorch\r\n",
        "\r\n",
        "O PyTorch é um *framework* para *deep learning* desenvolvido para linguagem Python baseado no Torch, originalmente implementando em linguagem Lua. De modo similar do TensorFlow, o PyTorch permite a criação de redes neurais profundas tanto de forma **declarativa** (útil para usuários iniciantes) quanto **imperativa** (útil para usuários mais avançados)."
      ]
    },
    {
      "cell_type": "markdown",
      "metadata": {
        "id": "WOTv6Is68uUy"
      },
      "source": [
        "## Tensores\r\n",
        "\r\n",
        "As operações realizadas pelo PyTorch devem utilizar a classe `torch.tensor` como base, que fornece uma interface similar à classe `numpy.array`. É possível criar um novo objeto de tensor a partir de listas em *arrays* do `numpy` de forma simples:"
      ]
    },
    {
      "cell_type": "code",
      "metadata": {
        "id": "z4faxgkaszwS"
      },
      "source": [
        "import torch\r\n",
        "import numpy as np"
      ],
      "execution_count": 1,
      "outputs": []
    },
    {
      "cell_type": "code",
      "metadata": {
        "colab": {
          "base_uri": "https://localhost:8080/"
        },
        "id": "aCdGUth47n4J",
        "outputId": "87170434-7bd3-41d2-d5e5-8fa2a18d8781"
      },
      "source": [
        "data = [[1,2], [3,4]]\r\n",
        "x_data = torch.tensor(data)\r\n",
        "x_data"
      ],
      "execution_count": 2,
      "outputs": [
        {
          "output_type": "execute_result",
          "data": {
            "text/plain": [
              "tensor([[1, 2],\n",
              "        [3, 4]])"
            ]
          },
          "metadata": {
            "tags": []
          },
          "execution_count": 2
        }
      ]
    },
    {
      "cell_type": "code",
      "metadata": {
        "colab": {
          "base_uri": "https://localhost:8080/"
        },
        "id": "uzSGGR8H7n1J",
        "outputId": "00e1bc0b-54aa-4cc1-fd49-e7ed85e0e594"
      },
      "source": [
        "data_array = np.array(data)\r\n",
        "x_data = torch.from_numpy(data_array)\r\n",
        "x_data"
      ],
      "execution_count": 3,
      "outputs": [
        {
          "output_type": "execute_result",
          "data": {
            "text/plain": [
              "tensor([[1, 2],\n",
              "        [3, 4]])"
            ]
          },
          "metadata": {
            "tags": []
          },
          "execution_count": 3
        }
      ]
    },
    {
      "cell_type": "markdown",
      "metadata": {
        "id": "OhIJp9-xAHKP"
      },
      "source": [
        "*Slicing* de tensores usando a sintaxe do numpy."
      ]
    },
    {
      "cell_type": "code",
      "metadata": {
        "id": "5Vu74RNt9o-l",
        "colab": {
          "base_uri": "https://localhost:8080/"
        },
        "outputId": "c3d83125-64fc-4385-ef00-d8bd777fe8ef"
      },
      "source": [
        "data_array[:, 1] "
      ],
      "execution_count": 4,
      "outputs": [
        {
          "output_type": "execute_result",
          "data": {
            "text/plain": [
              "array([2, 4])"
            ]
          },
          "metadata": {
            "tags": []
          },
          "execution_count": 4
        }
      ]
    },
    {
      "cell_type": "markdown",
      "metadata": {
        "id": "RWqDOuTkAKev"
      },
      "source": [
        "Operações com tensores são \"*element-wise*\"\r\n"
      ]
    },
    {
      "cell_type": "code",
      "metadata": {
        "id": "CP12LquB9swe",
        "colab": {
          "base_uri": "https://localhost:8080/"
        },
        "outputId": "5a18f302-7647-4fd0-c81d-d7cedf813140"
      },
      "source": [
        "data_array * 1000"
      ],
      "execution_count": 5,
      "outputs": [
        {
          "output_type": "execute_result",
          "data": {
            "text/plain": [
              "array([[1000, 2000],\n",
              "       [3000, 4000]])"
            ]
          },
          "metadata": {
            "tags": []
          },
          "execution_count": 5
        }
      ]
    },
    {
      "cell_type": "markdown",
      "metadata": {
        "id": "Jxrr9SdH_cv4"
      },
      "source": [
        "Também podemos criar tensores com \"forma\" (*shape*) pré-definida contendo valores fixos (ex: 0 ou 1) ou aleatórios."
      ]
    },
    {
      "cell_type": "code",
      "metadata": {
        "id": "f0t5GIr67nyQ",
        "colab": {
          "base_uri": "https://localhost:8080/"
        },
        "outputId": "d50caffc-6340-4500-bb1c-a59c3cc664c9"
      },
      "source": [
        "shape = (3,2,1)\r\n",
        "\r\n",
        "x_data_random = torch.rand(shape)\r\n",
        "print('random:', x_data_random)\r\n",
        "\r\n",
        "x_data_ones   = torch.ones(shape)\r\n",
        "print('ones:', x_data_ones)\r\n",
        "\r\n",
        "x_data_zeros  = torch.zeros(shape)\r\n",
        "print('zeros:', x_data_zeros)"
      ],
      "execution_count": 6,
      "outputs": [
        {
          "output_type": "stream",
          "text": [
            "random: tensor([[[0.0319],\n",
            "         [0.0939]],\n",
            "\n",
            "        [[0.4218],\n",
            "         [0.8767]],\n",
            "\n",
            "        [[0.9772],\n",
            "         [0.5168]]])\n",
            "ones: tensor([[[1.],\n",
            "         [1.]],\n",
            "\n",
            "        [[1.],\n",
            "         [1.]],\n",
            "\n",
            "        [[1.],\n",
            "         [1.]]])\n",
            "zeros: tensor([[[0.],\n",
            "         [0.]],\n",
            "\n",
            "        [[0.],\n",
            "         [0.]],\n",
            "\n",
            "        [[0.],\n",
            "         [0.]]])\n"
          ],
          "name": "stdout"
        }
      ]
    },
    {
      "cell_type": "markdown",
      "metadata": {
        "id": "MaRFi2nT_t5A"
      },
      "source": [
        "Um grande diferencial dos tensores do `pytorch` em relação aos arrays do `numpy` é a sua afinidade com unidades de processamento (ex: CPU, GPU)."
      ]
    },
    {
      "cell_type": "code",
      "metadata": {
        "id": "y6iwlz7h7nnB",
        "colab": {
          "base_uri": "https://localhost:8080/"
        },
        "outputId": "f492a820-3aba-47e5-f63a-8260bc64ace3"
      },
      "source": [
        "print('tensor shape:             ', x_data.shape)\r\n",
        "print('tensor data type (dtype): ', x_data.dtype)\r\n",
        "print('tensor device           : ', x_data.device)"
      ],
      "execution_count": 7,
      "outputs": [
        {
          "output_type": "stream",
          "text": [
            "tensor shape:              torch.Size([2, 2])\n",
            "tensor data type (dtype):  torch.int64\n",
            "tensor device           :  cpu\n"
          ],
          "name": "stdout"
        }
      ]
    },
    {
      "cell_type": "code",
      "metadata": {
        "id": "m1hmROMf7ncQ",
        "colab": {
          "base_uri": "https://localhost:8080/"
        },
        "outputId": "7fb28385-c998-490c-d18d-605bf4cdb6d4"
      },
      "source": [
        "if torch.cuda.is_available():\r\n",
        "  x_data_random = x_data_random.to('cuda')\r\n",
        "\r\n",
        "print('tensor device           : ', x_data_random.device)"
      ],
      "execution_count": 8,
      "outputs": [
        {
          "output_type": "stream",
          "text": [
            "tensor device           :  cuda:0\n"
          ],
          "name": "stdout"
        }
      ]
    },
    {
      "cell_type": "code",
      "metadata": {
        "id": "nIGndw3Trnj5"
      },
      "source": [
        "if torch.cuda.is_available():\r\n",
        "  device = 'cuda'\r\n",
        "else:\r\n",
        "  device = 'cpu'"
      ],
      "execution_count": 9,
      "outputs": []
    },
    {
      "cell_type": "markdown",
      "metadata": {
        "id": "upVbh6LOpcXU"
      },
      "source": [
        "## Obtendo o *dataset*\r\n",
        "\r\n",
        "Para exemplificar o uso do PyTorch na criação de redes neurais vamos retoma o exemplo do dataset de dígitos escritos à mão."
      ]
    },
    {
      "cell_type": "code",
      "metadata": {
        "id": "y0NpmKYGlnth"
      },
      "source": [
        "from sklearn.datasets import load_digits\r\n",
        "import pandas as pd"
      ],
      "execution_count": 10,
      "outputs": []
    },
    {
      "cell_type": "code",
      "metadata": {
        "id": "ccwZbCX8Ng-Y"
      },
      "source": [
        "data = load_digits()"
      ],
      "execution_count": 11,
      "outputs": []
    },
    {
      "cell_type": "code",
      "metadata": {
        "id": "a3N8BtJ93zDK"
      },
      "source": [
        "X, y = data['data'], data['target']"
      ],
      "execution_count": 12,
      "outputs": []
    },
    {
      "cell_type": "code",
      "metadata": {
        "colab": {
          "base_uri": "https://localhost:8080/"
        },
        "id": "VfnzTrweqxCH",
        "outputId": "ef5657c1-e334-4f1d-b2cc-71d240731617"
      },
      "source": [
        "X[0]"
      ],
      "execution_count": 13,
      "outputs": [
        {
          "output_type": "execute_result",
          "data": {
            "text/plain": [
              "array([ 0.,  0.,  5., 13.,  9.,  1.,  0.,  0.,  0.,  0., 13., 15., 10.,\n",
              "       15.,  5.,  0.,  0.,  3., 15.,  2.,  0., 11.,  8.,  0.,  0.,  4.,\n",
              "       12.,  0.,  0.,  8.,  8.,  0.,  0.,  5.,  8.,  0.,  0.,  9.,  8.,\n",
              "        0.,  0.,  4., 11.,  0.,  1., 12.,  7.,  0.,  0.,  2., 14.,  5.,\n",
              "       10., 12.,  0.,  0.,  0.,  0.,  6., 13., 10.,  0.,  0.,  0.])"
            ]
          },
          "metadata": {
            "tags": []
          },
          "execution_count": 13
        }
      ]
    },
    {
      "cell_type": "code",
      "metadata": {
        "id": "BPFW5aI4E-Ye"
      },
      "source": [
        "import matplotlib.pyplot as plt\r\n",
        "\r\n",
        "def plot_digit(digit):\r\n",
        "  plt.figure(1, figsize=(3, 3))\r\n",
        "  plt.imshow(digit.reshape(8,8), cmap=plt.cm.gray_r, interpolation='nearest')\r\n",
        "  plt.show()"
      ],
      "execution_count": 14,
      "outputs": []
    },
    {
      "cell_type": "code",
      "metadata": {
        "colab": {
          "base_uri": "https://localhost:8080/",
          "height": 228
        },
        "id": "QquViXz6lqUM",
        "outputId": "7fe26a2c-6ded-47c6-db03-2c19cabb6344"
      },
      "source": [
        "plot_digit(X[100])\r\n",
        "print('label:', y[100])"
      ],
      "execution_count": 15,
      "outputs": [
        {
          "output_type": "display_data",
          "data": {
            "image/png": "[encoded data removed]",
            "text/plain": [
              "<Figure size 216x216 with 1 Axes>"
            ]
          },
          "metadata": {
            "tags": [],
            "needs_background": "light"
          }
        },
        {
          "output_type": "stream",
          "text": [
            "label: 4\n"
          ],
          "name": "stdout"
        }
      ]
    },
    {
      "cell_type": "markdown",
      "metadata": {
        "id": "v4RiXZbPkm8J"
      },
      "source": [
        "Para treinarmos um modelo com classificação multi-classe é importante garantir que todas as classes sejam representadas na mesma proporção."
      ]
    },
    {
      "cell_type": "code",
      "metadata": {
        "colab": {
          "base_uri": "https://localhost:8080/"
        },
        "id": "HKh-Uzt76Wiu",
        "outputId": "05a17f06-80b0-44d4-f844-04bb3fc8e7bf"
      },
      "source": [
        "for value in set(y):\r\n",
        "  print(value, ':', list(y).count(value))"
      ],
      "execution_count": 16,
      "outputs": [
        {
          "output_type": "stream",
          "text": [
            "0 : 178\n",
            "1 : 182\n",
            "2 : 177\n",
            "3 : 183\n",
            "4 : 181\n",
            "5 : 182\n",
            "6 : 181\n",
            "7 : 179\n",
            "8 : 174\n",
            "9 : 180\n"
          ],
          "name": "stdout"
        }
      ]
    },
    {
      "cell_type": "markdown",
      "metadata": {
        "id": "KUEtV94bk0Kh"
      },
      "source": [
        "Como a ocorrência é cada classe é um pouco diferente, podemos realizar um *undersampling* das classes maiores e deixar todas com a mesma contagem de exemplos."
      ]
    },
    {
      "cell_type": "code",
      "metadata": {
        "colab": {
          "base_uri": "https://localhost:8080/"
        },
        "id": "u703L3gM4hrH",
        "outputId": "e3b660b3-031d-416f-e985-4bfcb3146d86"
      },
      "source": [
        "from imblearn.under_sampling import RandomUnderSampler\r\n",
        "\r\n",
        "rus = RandomUnderSampler()\r\n",
        "\r\n",
        "X_rus, y_rus = rus.fit_resample(X, y)"
      ],
      "execution_count": 17,
      "outputs": [
        {
          "output_type": "stream",
          "text": [
            "/usr/local/lib/python3.7/dist-packages/sklearn/externals/six.py:31: FutureWarning: The module is deprecated in version 0.21 and will be removed in version 0.23 since we've dropped support for Python 2.7. Please rely on the official version of six (https://pypi.org/project/six/).\n",
            "  \"(https://pypi.org/project/six/).\", FutureWarning)\n",
            "/usr/local/lib/python3.7/dist-packages/sklearn/utils/deprecation.py:144: FutureWarning: The sklearn.neighbors.base module is  deprecated in version 0.22 and will be removed in version 0.24. The corresponding classes / functions should instead be imported from sklearn.neighbors. Anything that cannot be imported from sklearn.neighbors is now part of the private API.\n",
            "  warnings.warn(message, FutureWarning)\n",
            "/usr/local/lib/python3.7/dist-packages/sklearn/utils/deprecation.py:87: FutureWarning: Function safe_indexing is deprecated; safe_indexing is deprecated in version 0.22 and will be removed in version 0.24.\n",
            "  warnings.warn(msg, category=FutureWarning)\n"
          ],
          "name": "stderr"
        }
      ]
    },
    {
      "cell_type": "code",
      "metadata": {
        "colab": {
          "base_uri": "https://localhost:8080/"
        },
        "id": "dtxag1ebNn_X",
        "outputId": "e8677ce7-a068-4938-f82b-9e7149ec2ac7"
      },
      "source": [
        "for value in set(y_rus):\r\n",
        "  print(value, ':', list(y_rus).count(value))"
      ],
      "execution_count": 18,
      "outputs": [
        {
          "output_type": "stream",
          "text": [
            "0 : 174\n",
            "1 : 174\n",
            "2 : 174\n",
            "3 : 174\n",
            "4 : 174\n",
            "5 : 174\n",
            "6 : 174\n",
            "7 : 174\n",
            "8 : 174\n",
            "9 : 174\n"
          ],
          "name": "stdout"
        }
      ]
    },
    {
      "cell_type": "markdown",
      "metadata": {
        "id": "gQNfbMG0lBGG"
      },
      "source": [
        "Agora vamos segmentar nosso *dataset* em uma fração de treino e outra de teste (ou validação)."
      ]
    },
    {
      "cell_type": "code",
      "metadata": {
        "id": "bUEfIhx75Qu5"
      },
      "source": [
        "from sklearn.model_selection import train_test_split\r\n",
        "\r\n",
        "X_train, X_test, y_train, y_test = train_test_split(X_rus, y_rus)"
      ],
      "execution_count": 19,
      "outputs": []
    },
    {
      "cell_type": "markdown",
      "metadata": {
        "id": "Z6gqMU-dlIcL"
      },
      "source": [
        "Quando trabalhamos com redes neurais é uma boa prática se realizar o ajuste dos valores de entrada para estes estejam em um mesmo intervalo e (preferencialmente) entre 0 e 1 ou -1 e 1. Dados com amplitudes maiores podem dificultar o processo de amprendizagem. \r\n",
        "\r\n",
        "**Nota:** o processo de ajuste de escala e / ou normalização deve ser realizado APÓS a separação dos dados de treino dos dados de teste."
      ]
    },
    {
      "cell_type": "code",
      "metadata": {
        "id": "Gfg9C1UF5p8T"
      },
      "source": [
        "from sklearn.preprocessing import StandardScaler\r\n",
        "\r\n",
        "scaler = StandardScaler()\r\n",
        "scaler.fit(X_train)\r\n",
        "\r\n",
        "X_train_scaled = scaler.transform(X_train)\r\n",
        "X_test_scaled  = scaler.transform(X_test)"
      ],
      "execution_count": 20,
      "outputs": []
    },
    {
      "cell_type": "code",
      "metadata": {
        "id": "HzAjviyqN91t",
        "colab": {
          "base_uri": "https://localhost:8080/"
        },
        "outputId": "07f4bb79-4384-4059-a10e-63aa09a05798"
      },
      "source": [
        "X_train"
      ],
      "execution_count": 21,
      "outputs": [
        {
          "output_type": "execute_result",
          "data": {
            "text/plain": [
              "array([[ 0.,  0.,  0., ...,  0.,  0.,  0.],\n",
              "       [ 0.,  0.,  0., ...,  0.,  0.,  0.],\n",
              "       [ 0.,  2., 15., ...,  0.,  0.,  0.],\n",
              "       ...,\n",
              "       [ 0.,  0.,  5., ..., 10.,  0.,  0.],\n",
              "       [ 0.,  2., 10., ...,  9.,  0.,  0.],\n",
              "       [ 0.,  0.,  4., ...,  5.,  0.,  0.]])"
            ]
          },
          "metadata": {
            "tags": []
          },
          "execution_count": 21
        }
      ]
    },
    {
      "cell_type": "code",
      "metadata": {
        "id": "krk2rwPON_mJ",
        "colab": {
          "base_uri": "https://localhost:8080/"
        },
        "outputId": "4a9037ca-3a82-4542-cd8d-f8c287d8532a"
      },
      "source": [
        "X_train_scaled"
      ],
      "execution_count": 22,
      "outputs": [
        {
          "output_type": "execute_result",
          "data": {
            "text/plain": [
              "array([[ 0.        , -0.32453173, -1.08048772, ..., -1.12749579,\n",
              "        -0.50180943, -0.19151138],\n",
              "       [ 0.        , -0.32453173, -1.08048772, ..., -1.12749579,\n",
              "        -0.50180943, -0.19151138],\n",
              "       [ 0.        ,  1.92222637,  2.12657022, ..., -1.12749579,\n",
              "        -0.50180943, -0.19151138],\n",
              "       ...,\n",
              "       [ 0.        , -0.32453173, -0.01146841, ...,  0.56064327,\n",
              "        -0.50180943, -0.19151138],\n",
              "       [ 0.        ,  1.92222637,  1.05755091, ...,  0.39182936,\n",
              "        -0.50180943, -0.19151138],\n",
              "       [ 0.        , -0.32453173, -0.22527227, ..., -0.28342626,\n",
              "        -0.50180943, -0.19151138]])"
            ]
          },
          "metadata": {
            "tags": []
          },
          "execution_count": 22
        }
      ]
    },
    {
      "cell_type": "markdown",
      "metadata": {
        "id": "VEynj80dtSTD"
      },
      "source": [
        "## Criando uma rede neural com o PyTorch\r\n",
        "\r\n",
        "Agora podemos criar uma rede neural usando como base a classe `torch.nn.Module`. Para isso definimos cada camada em um atributo de classe no método construtor (`__init__`), para serem iniciadas quando esta forma instanciada, e depois definimos as conexões entre elas no método `forward`."
      ]
    },
    {
      "cell_type": "code",
      "metadata": {
        "id": "-KwfWOXrtllc"
      },
      "source": [
        "import torch.nn as nn\r\n",
        "import torch.nn.functional as F\r\n",
        "import torch.optim as optim\r\n",
        "\r\n",
        "class Net(nn.Module):\r\n",
        "\r\n",
        "    def __init__(self):\r\n",
        "      super(Net, self).__init__()\r\n",
        "      self.fc1 = nn.Linear(64, 32)\r\n",
        "      self.fc2 = nn.Linear(32, 10)\r\n",
        "\r\n",
        "    def forward(self, x):\r\n",
        "      x = self.fc1(x)\r\n",
        "      x = F.relu(x)\r\n",
        "      x = self.fc2(x)\r\n",
        "      return F.softmax(x)\r\n",
        "\r\n",
        "model = Net().to(device)\r\n",
        "criterion = nn.CrossEntropyLoss()\r\n",
        "optimizer = optim.SGD(model.parameters(), lr=0.1)"
      ],
      "execution_count": 23,
      "outputs": []
    },
    {
      "cell_type": "markdown",
      "metadata": {
        "id": "Ca087Z1tmiM0"
      },
      "source": [
        "Agora definimos os nossos ciclos de treinamento, chamados \"épocas\" (`epochs`). Cada época consiste em uma leitura completa do *dataset* e inclui o ajuste dos pesos pelo nosso otimizador. É possível também se dividir uma época em passos (*steps*), onde os pesos serão ajustados com base em segmentos do *dataset* denominados *mini-batches*."
      ]
    },
    {
      "cell_type": "code",
      "metadata": {
        "colab": {
          "base_uri": "https://localhost:8080/",
          "height": 335
        },
        "id": "pRnn5H_eue5J",
        "outputId": "5649715b-adfd-4449-dbc0-f80bd25d2996"
      },
      "source": [
        "loss_history = []\r\n",
        "\r\n",
        "for epoch in range(10000):\r\n",
        "\r\n",
        "    optimizer.zero_grad()\r\n",
        "\r\n",
        "    inputs = torch.from_numpy(X_train_scaled).float().to(device)\r\n",
        "    labels = torch.from_numpy(y_train).to(device)\r\n",
        "\r\n",
        "    outputs = model(inputs).to(device)\r\n",
        "    loss = criterion(outputs, labels)\r\n",
        "    loss.backward()\r\n",
        "\r\n",
        "    optimizer.step()\r\n",
        "\r\n",
        "    loss_history.append(loss.item())\r\n",
        "\r\n",
        "plt.plot(loss_history)"
      ],
      "execution_count": 24,
      "outputs": [
        {
          "output_type": "stream",
          "text": [
            "/usr/local/lib/python3.7/dist-packages/ipykernel_launcher.py:16: UserWarning: Implicit dimension choice for softmax has been deprecated. Change the call to include dim=X as an argument.\n",
            "  app.launch_new_instance()\n"
          ],
          "name": "stderr"
        },
        {
          "output_type": "execute_result",
          "data": {
            "text/plain": [
              "[<matplotlib.lines.Line2D at 0x7fc8a02e5050>]"
            ]
          },
          "metadata": {
            "tags": []
          },
          "execution_count": 24
        },
        {
          "output_type": "display_data",
          "data": {
            "image/png": "[encoded data removed]",
            "text/plain": [
              "<Figure size 432x288 with 1 Axes>"
            ]
          },
          "metadata": {
            "tags": [],
            "needs_background": "light"
          }
        }
      ]
    },
    {
      "cell_type": "markdown",
      "metadata": {
        "id": "xutMP6M5vHXx"
      },
      "source": [
        "Agora podemos avaliar o nosso modelo com base nos dados de teste. Primeiro vamos avaliar a acurácia \"global\" do modelo usando a função `accuracy_score` do módulo `sklearn.metrics`."
      ]
    },
    {
      "cell_type": "code",
      "metadata": {
        "colab": {
          "base_uri": "https://localhost:8080/"
        },
        "id": "g2wQ7aU24Aoz",
        "outputId": "e6c04df5-ad8a-415b-a2bf-dd33c11852bb"
      },
      "source": [
        "from sklearn.metrics import accuracy_score\r\n",
        "\r\n",
        "with torch.no_grad():\r\n",
        "\r\n",
        "  inputs = torch.from_numpy(X_test_scaled).float().to(device)\r\n",
        "  outputs = model(inputs).to(device)\r\n",
        "  y_pred  = np.argmax(outputs.cpu().data.numpy(), axis=1)\r\n",
        "\r\n",
        "accuracy_score(y_test, y_pred)"
      ],
      "execution_count": 25,
      "outputs": [
        {
          "output_type": "stream",
          "text": [
            "/usr/local/lib/python3.7/dist-packages/ipykernel_launcher.py:16: UserWarning: Implicit dimension choice for softmax has been deprecated. Change the call to include dim=X as an argument.\n",
            "  app.launch_new_instance()\n"
          ],
          "name": "stderr"
        },
        {
          "output_type": "execute_result",
          "data": {
            "text/plain": [
              "0.9793103448275862"
            ]
          },
          "metadata": {
            "tags": []
          },
          "execution_count": 25
        }
      ]
    },
    {
      "cell_type": "markdown",
      "metadata": {
        "id": "a_bIJmYKvVkj"
      },
      "source": [
        "Agora vamos criar uma \"matriz de confusão\" usando a função `confusion_matrix` do mesmo módulo."
      ]
    },
    {
      "cell_type": "code",
      "metadata": {
        "colab": {
          "base_uri": "https://localhost:8080/"
        },
        "id": "wanq0EY0kMcY",
        "outputId": "c6e929a0-0c22-4c8e-8215-82e635500dbd"
      },
      "source": [
        "from sklearn.metrics import confusion_matrix\r\n",
        "\r\n",
        "cm = confusion_matrix(y_test, y_pred)\r\n",
        "cm"
      ],
      "execution_count": 26,
      "outputs": [
        {
          "output_type": "execute_result",
          "data": {
            "text/plain": [
              "array([[46,  0,  0,  0,  0,  0,  0,  0,  0,  0],\n",
              "       [ 0, 43,  0,  0,  0,  0,  0,  0,  0,  0],\n",
              "       [ 0,  0, 53,  0,  0,  0,  0,  0,  0,  0],\n",
              "       [ 0,  0,  1, 47,  0,  0,  0,  0,  1,  0],\n",
              "       [ 0,  1,  0,  0, 35,  0,  0,  0,  0,  0],\n",
              "       [ 0,  0,  0,  2,  0, 45,  0,  0,  0,  2],\n",
              "       [ 0,  0,  0,  0,  0,  0, 41,  0,  0,  0],\n",
              "       [ 0,  0,  0,  0,  0,  0,  0, 41,  0,  0],\n",
              "       [ 0,  0,  0,  0,  0,  1,  0,  0, 41,  0],\n",
              "       [ 0,  0,  0,  0,  0,  0,  0,  1,  0, 34]])"
            ]
          },
          "metadata": {
            "tags": []
          },
          "execution_count": 26
        }
      ]
    },
    {
      "cell_type": "markdown",
      "metadata": {
        "id": "AcZn-CL7vctz"
      },
      "source": [
        "Por fim, vamos utilizar o `classification_report` para entender melhor qual a precisão e o *recall* do nosso modelo para cada classe. Estas informações ficam implícitas na matriz de confusão, mas sempre é bom ter elas de uma forma mais direta."
      ]
    },
    {
      "cell_type": "code",
      "metadata": {
        "colab": {
          "base_uri": "https://localhost:8080/"
        },
        "id": "zK-ugCbOuF3s",
        "outputId": "1d13b485-1b50-4ea5-d80d-9d6a4c7a52ed"
      },
      "source": [
        "from sklearn.metrics import classification_report\r\n",
        "\r\n",
        "print(classification_report(y_test, y_pred, digits=4))"
      ],
      "execution_count": 27,
      "outputs": [
        {
          "output_type": "stream",
          "text": [
            "              precision    recall  f1-score   support\n",
            "\n",
            "           0     1.0000    1.0000    1.0000        46\n",
            "           1     0.9773    1.0000    0.9885        43\n",
            "           2     0.9815    1.0000    0.9907        53\n",
            "           3     0.9592    0.9592    0.9592        49\n",
            "           4     1.0000    0.9722    0.9859        36\n",
            "           5     0.9783    0.9184    0.9474        49\n",
            "           6     1.0000    1.0000    1.0000        41\n",
            "           7     0.9762    1.0000    0.9880        41\n",
            "           8     0.9762    0.9762    0.9762        42\n",
            "           9     0.9444    0.9714    0.9577        35\n",
            "\n",
            "    accuracy                         0.9793       435\n",
            "   macro avg     0.9793    0.9797    0.9794       435\n",
            "weighted avg     0.9794    0.9793    0.9792       435\n",
            "\n"
          ],
          "name": "stdout"
        }
      ]
    },
    {
      "cell_type": "code",
      "metadata": {
        "colab": {
          "base_uri": "https://localhost:8080/",
          "height": 298
        },
        "id": "YntQVGxTwV5o",
        "outputId": "46e623a3-087a-4183-8d8e-68996a5b24ae"
      },
      "source": [
        "example = 210\r\n",
        "\r\n",
        "X_test_example = X_test[example]\r\n",
        "plot_digit(X_test_example)\r\n",
        "\r\n",
        "X_test_example_tensor = torch.from_numpy(X_test_example).float()\r\n",
        "output = model(X_test_example_tensor.to(device)).cpu()\r\n",
        "y_test_example = y_test[example]\r\n",
        "y_pred_example = np.argmax(output.data.numpy())\r\n",
        "\r\n",
        "print('real label:     ', y_test_example)\r\n",
        "print('predicted label:', y_pred_example)"
      ],
      "execution_count": 28,
      "outputs": [
        {
          "output_type": "display_data",
          "data": {
            "image/png": "[encoded data removed]",
            "text/plain": [
              "<Figure size 216x216 with 1 Axes>"
            ]
          },
          "metadata": {
            "tags": [],
            "needs_background": "light"
          }
        },
        {
          "output_type": "stream",
          "text": [
            "real label:      5\n",
            "predicted label: 5\n"
          ],
          "name": "stdout"
        },
        {
          "output_type": "stream",
          "text": [
            "/usr/local/lib/python3.7/dist-packages/ipykernel_launcher.py:16: UserWarning: Implicit dimension choice for softmax has been deprecated. Change the call to include dim=X as an argument.\n",
            "  app.launch_new_instance()\n"
          ],
          "name": "stderr"
        }
      ]
    }
  ]
}