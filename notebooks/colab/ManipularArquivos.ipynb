{
  "nbformat": 4,
  "nbformat_minor": 0,
  "metadata": {
    "colab": {
      "name": "ManipularArquivos.ipynb",
      "provenance": [],
      "collapsed_sections": [],
      "authorship_tag": "ABX9TyOKj6v3paJJtOZcao2fdNK/",
      "include_colab_link": true
    },
    "kernelspec": {
      "name": "python3",
      "display_name": "Python 3"
    }
  },
  "cells": [
    {
      "cell_type": "markdown",
      "metadata": {
        "id": "view-in-github",
        "colab_type": "text"
      },
      "source": [
        "<a href=\"https://colab.research.google.com/github/H2IA/escola-de-verao-2021/blob/main/notebooks/colab/ManipularArquivos.ipynb\" target=\"_parent\"><img src=\"https://colab.research.google.com/assets/colab-badge.svg\" alt=\"Open In Colab\"/></a>"
      ]
    },
    {
      "cell_type": "markdown",
      "metadata": {
        "id": "Zu7zMNIjnxC8"
      },
      "source": [
        "![Hub IA - marca 02.png](data:image/png;base64,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)\n"
      ]
    },
    {
      "cell_type": "markdown",
      "metadata": {
        "id": "BCf0bUVWViPu"
      },
      "source": [
        "#Manipular Arquivos Locais\n"
      ]
    },
    {
      "cell_type": "markdown",
      "metadata": {
        "id": "mG47uhTei_-U"
      },
      "source": [
        "## Carregando arquivos de seu sistema de arquivos local\n",
        "\n",
        "`files.upload` retorna um dicionário dos arquivos que foram carregados."
      ]
    },
    {
      "cell_type": "code",
      "metadata": {
        "id": "fy1nRq__VyMs",
        "colab": {
          "resources": {
            "http://localhost:8080/nbextensions/google.colab/files.js": {
              "data": "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",
              "ok": true,
              "headers": [
                [
                  "content-type",
                  "application/javascript"
                ]
              ],
              "status": 200,
              "status_text": ""
            }
          },
          "base_uri": "https://localhost:8080/",
          "height": 91
        },
        "outputId": "ddc6175f-e257-4282-a9cb-069edffaa97f"
      },
      "source": [
        "from google.colab import files\n",
        "\n",
        "uploaded = files.upload()\n",
        "\n",
        "for fn in uploaded.keys():\n",
        "  print(fn)\n",
        "  #print('Nome do arquivo \"{name}\" e Tamanho do arquivo {length} bytes'.format(name=fn, length=len(uploaded[fn])))"
      ],
      "execution_count": 8,
      "outputs": [
        {
          "output_type": "display_data",
          "data": {
            "text/html": [
              "\n",
              "     <input type=\"file\" id=\"files-ada56ba4-d1d3-4976-b58b-e0df22c8240c\" name=\"files[]\" multiple disabled\n",
              "        style=\"border:none\" />\n",
              "     <output id=\"result-ada56ba4-d1d3-4976-b58b-e0df22c8240c\">\n",
              "      Upload widget is only available when the cell has been executed in the\n",
              "      current browser session. Please rerun this cell to enable.\n",
              "      </output>\n",
              "      <script src=\"/nbextensions/google.colab/files.js\"></script> "
            ],
            "text/plain": [
              "<IPython.core.display.HTML object>"
            ]
          },
          "metadata": {
            "tags": []
          }
        },
        {
          "output_type": "stream",
          "text": [
            "Saving Hub IA - marca 02.png to Hub IA - marca 02.png\n",
            "Hub IA - marca 02.png\n"
          ],
          "name": "stdout"
        }
      ]
    },
    {
      "cell_type": "markdown",
      "metadata": {
        "id": "qegfWfzSjBwL"
      },
      "source": [
        "## Baixando arquivos para seu sistema de arquivos local\n",
        "\n",
        "`files.download ` irá invocar um download do arquivo do navegador para o seu computador."
      ]
    },
    {
      "cell_type": "code",
      "metadata": {
        "colab": {
          "base_uri": "https://localhost:8080/",
          "height": 16
        },
        "id": "54yjtYyXjaXy",
        "outputId": "b4d76ebb-248c-4c47-938d-35dde59ec220"
      },
      "source": [
        "from google.colab import files\n",
        "\n",
        "with open('dataset.txt', 'w') as f:\n",
        "  f.write('algum conteúdo')\n",
        "\n",
        "files.download('dataset.txt')"
      ],
      "execution_count": 9,
      "outputs": [
        {
          "output_type": "display_data",
          "data": {
            "application/javascript": [
              "\n",
              "    async function download(id, filename, size) {\n",
              "      if (!google.colab.kernel.accessAllowed) {\n",
              "        return;\n",
              "      }\n",
              "      const div = document.createElement('div');\n",
              "      const label = document.createElement('label');\n",
              "      label.textContent = `Downloading \"${filename}\": `;\n",
              "      div.appendChild(label);\n",
              "      const progress = document.createElement('progress');\n",
              "      progress.max = size;\n",
              "      div.appendChild(progress);\n",
              "      document.body.appendChild(div);\n",
              "\n",
              "      const buffers = [];\n",
              "      let downloaded = 0;\n",
              "\n",
              "      const channel = await google.colab.kernel.comms.open(id);\n",
              "      // Send a message to notify the kernel that we're ready.\n",
              "      channel.send({})\n",
              "\n",
              "      for await (const message of channel.messages) {\n",
              "        // Send a message to notify the kernel that we're ready.\n",
              "        channel.send({})\n",
              "        if (message.buffers) {\n",
              "          for (const buffer of message.buffers) {\n",
              "            buffers.push(buffer);\n",
              "            downloaded += buffer.byteLength;\n",
              "            progress.value = downloaded;\n",
              "          }\n",
              "        }\n",
              "      }\n",
              "      const blob = new Blob(buffers, {type: 'application/binary'});\n",
              "      const a = document.createElement('a');\n",
              "      a.href = window.URL.createObjectURL(blob);\n",
              "      a.download = filename;\n",
              "      div.appendChild(a);\n",
              "      a.click();\n",
              "      div.remove();\n",
              "    }\n",
              "  "
            ],
            "text/plain": [
              "<IPython.core.display.Javascript object>"
            ]
          },
          "metadata": {
            "tags": []
          }
        },
        {
          "output_type": "display_data",
          "data": {
            "application/javascript": [
              "download(\"download_0cf16776-4cd1-46e1-af4c-afd4af7052bd\", \"dataset.txt\", 15)"
            ],
            "text/plain": [
              "<IPython.core.display.Javascript object>"
            ]
          },
          "metadata": {
            "tags": []
          }
        }
      ]
    },
    {
      "cell_type": "markdown",
      "metadata": {
        "id": "7HCoNx02Vy7Q"
      },
      "source": [
        "#Manipular Arquivos do Google Drive"
      ]
    },
    {
      "cell_type": "code",
      "metadata": {
        "id": "t6BivTELV-Hl"
      },
      "source": [
        "from google.colab import drive"
      ],
      "execution_count": 10,
      "outputs": []
    },
    {
      "cell_type": "code",
      "metadata": {
        "colab": {
          "base_uri": "https://localhost:8080/"
        },
        "id": "2ogMm3WCkCTZ",
        "outputId": "c3696086-8243-4e90-dbc5-de84432379e8"
      },
      "source": [
        "drive.mount('/content/drive')"
      ],
      "execution_count": 11,
      "outputs": [
        {
          "output_type": "stream",
          "text": [
            "Mounted at /content/drive\n"
          ],
          "name": "stdout"
        }
      ]
    },
    {
      "cell_type": "code",
      "metadata": {
        "id": "DSKNdfWMlyUl"
      },
      "source": [
        "with open('/content/drive/My Drive/dataset.txt', 'w') as f:\n",
        "  f.write('Testando Google Drive!')"
      ],
      "execution_count": 12,
      "outputs": []
    },
    {
      "cell_type": "code",
      "metadata": {
        "id": "2y0Ytg0aq64d"
      },
      "source": [
        "dataset_path = '/content/drive/My Drive/'"
      ],
      "execution_count": 13,
      "outputs": []
    },
    {
      "cell_type": "code",
      "metadata": {
        "id": "fikyl-7hq-tr"
      },
      "source": [
        "import os\n",
        "with open(os.path.join(dataset_path,'dataset.txt'), 'w') as f:\n",
        "  f.write('Testando Google Drive!')"
      ],
      "execution_count": 14,
      "outputs": []
    },
    {
      "cell_type": "markdown",
      "metadata": {
        "id": "7yecDf2lp_N7"
      },
      "source": [
        "## Dicas\n",
        "\n",
        "Sempre que a sua pasta do Google Drive for montada como se fosse uma unidade de disco tome cuidado com o espaço na pasta raiz `My Drive`.\n",
        "\n",
        "O Python lida com espaços no caminho (*path*) de arquivos, no entanto, se você precisar executar um comando linux com o conteúdo de uma variável é necessário utilizar o caractere de escape `\\`.\n",
        "\n",
        "Para utilizar uma variável Python em comandos Linux devemos utilizar seu identificador entre chaves, por exemplo: `{dataset_path}`.\n",
        "\n"
      ]
    },
    {
      "cell_type": "code",
      "metadata": {
        "colab": {
          "base_uri": "https://localhost:8080/"
        },
        "id": "0TyRVvQbrMLx",
        "outputId": "aa0b24a0-7bed-42aa-ae4e-146bdf4d5efe"
      },
      "source": [
        "!ls {dataset_path}"
      ],
      "execution_count": 15,
      "outputs": [
        {
          "output_type": "stream",
          "text": [
            "ls: cannot access '/content/drive/My': No such file or directory\n",
            "ls: cannot access 'Drive/': No such file or directory\n"
          ],
          "name": "stdout"
        }
      ]
    },
    {
      "cell_type": "code",
      "metadata": {
        "id": "kwU7DIEVpnds"
      },
      "source": [
        "!ls /content/drive/My\\ Drive/"
      ],
      "execution_count": null,
      "outputs": []
    },
    {
      "cell_type": "code",
      "metadata": {
        "colab": {
          "base_uri": "https://localhost:8080/"
        },
        "id": "4x0cpZh7mBuX",
        "outputId": "f16eb871-93a2-4c01-c20a-b168336bad32"
      },
      "source": [
        "!cat /content/drive/My\\ Drive/dataset.txt"
      ],
      "execution_count": 17,
      "outputs": [
        {
          "output_type": "stream",
          "text": [
            "Testando Google Drive!"
          ],
          "name": "stdout"
        }
      ]
    },
    {
      "cell_type": "code",
      "metadata": {
        "colab": {
          "base_uri": "https://localhost:8080/"
        },
        "id": "D91f1Qm5uF3J",
        "outputId": "029de707-79d8-4eb5-d54b-ca0da51e1575"
      },
      "source": [
        "%%timeit\n",
        "!ls"
      ],
      "execution_count": 18,
      "outputs": [
        {
          "output_type": "stream",
          "text": [
            " dataset.txt   drive  'Hub IA - marca 02.png'   sample_data\n",
            " dataset.txt   drive  'Hub IA - marca 02.png'   sample_data\n",
            " dataset.txt   drive  'Hub IA - marca 02.png'   sample_data\n",
            " dataset.txt   drive  'Hub IA - marca 02.png'   sample_data\n",
            " dataset.txt   drive  'Hub IA - marca 02.png'   sample_data\n",
            " dataset.txt   drive  'Hub IA - marca 02.png'   sample_data\n",
            " dataset.txt   drive  'Hub IA - marca 02.png'   sample_data\n",
            " dataset.txt   drive  'Hub IA - marca 02.png'   sample_data\n",
            " dataset.txt   drive  'Hub IA - marca 02.png'   sample_data\n",
            " dataset.txt   drive  'Hub IA - marca 02.png'   sample_data\n",
            " dataset.txt   drive  'Hub IA - marca 02.png'   sample_data\n",
            " dataset.txt   drive  'Hub IA - marca 02.png'   sample_data\n",
            " dataset.txt   drive  'Hub IA - marca 02.png'   sample_data\n",
            " dataset.txt   drive  'Hub IA - marca 02.png'   sample_data\n",
            " dataset.txt   drive  'Hub IA - marca 02.png'   sample_data\n",
            " dataset.txt   drive  'Hub IA - marca 02.png'   sample_data\n",
            " dataset.txt   drive  'Hub IA - marca 02.png'   sample_data\n",
            " dataset.txt   drive  'Hub IA - marca 02.png'   sample_data\n",
            " dataset.txt   drive  'Hub IA - marca 02.png'   sample_data\n",
            " dataset.txt   drive  'Hub IA - marca 02.png'   sample_data\n",
            " dataset.txt   drive  'Hub IA - marca 02.png'   sample_data\n",
            " dataset.txt   drive  'Hub IA - marca 02.png'   sample_data\n",
            " dataset.txt   drive  'Hub IA - marca 02.png'   sample_data\n",
            " dataset.txt   drive  'Hub IA - marca 02.png'   sample_data\n",
            " dataset.txt   drive  'Hub IA - marca 02.png'   sample_data\n",
            " dataset.txt   drive  'Hub IA - marca 02.png'   sample_data\n",
            " dataset.txt   drive  'Hub IA - marca 02.png'   sample_data\n",
            " dataset.txt   drive  'Hub IA - marca 02.png'   sample_data\n",
            " dataset.txt   drive  'Hub IA - marca 02.png'   sample_data\n",
            " dataset.txt   drive  'Hub IA - marca 02.png'   sample_data\n",
            " dataset.txt   drive  'Hub IA - marca 02.png'   sample_data\n",
            " dataset.txt   drive  'Hub IA - marca 02.png'   sample_data\n",
            " dataset.txt   drive  'Hub IA - marca 02.png'   sample_data\n",
            " dataset.txt   drive  'Hub IA - marca 02.png'   sample_data\n",
            " dataset.txt   drive  'Hub IA - marca 02.png'   sample_data\n",
            " dataset.txt   drive  'Hub IA - marca 02.png'   sample_data\n",
            " dataset.txt   drive  'Hub IA - marca 02.png'   sample_data\n",
            " dataset.txt   drive  'Hub IA - marca 02.png'   sample_data\n",
            " dataset.txt   drive  'Hub IA - marca 02.png'   sample_data\n",
            " dataset.txt   drive  'Hub IA - marca 02.png'   sample_data\n",
            " dataset.txt   drive  'Hub IA - marca 02.png'   sample_data\n",
            "10 loops, best of 3: 117 ms per loop\n"
          ],
          "name": "stdout"
        }
      ]
    },
    {
      "cell_type": "code",
      "metadata": {
        "colab": {
          "base_uri": "https://localhost:8080/"
        },
        "id": "8SAShrHzuGyx",
        "outputId": "b742d0a6-683b-4775-b791-46d23464fe0f"
      },
      "source": [
        "%ls"
      ],
      "execution_count": 19,
      "outputs": [
        {
          "output_type": "stream",
          "text": [
            " dataset.txt   \u001b[0m\u001b[01;34mdrive\u001b[0m/  'Hub IA - marca 02.png'   \u001b[01;34msample_data\u001b[0m/\n"
          ],
          "name": "stdout"
        }
      ]
    }
  ]
}